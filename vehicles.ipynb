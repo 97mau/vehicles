{
 "cells": [
  {
   "cell_type": "markdown",
   "metadata": {},
   "source": [
    "# ¿Qué vende un coche?\n",
    "\n",
    "Eres un analista en Crankshaft List. Cientos de anuncios gratuitos de vehículos se publican en tu sitio web cada día. Necesitas estudiar los datos recopilados durante los últimos años y determinar qué factores influyen en el precio de un vehículo."
   ]
  },
  {
   "cell_type": "markdown",
   "metadata": {},
   "source": [
    "## Inicialización"
   ]
  },
  {
   "cell_type": "markdown",
   "metadata": {},
   "source": [
    "[Carga las librerías que crees que son necesarias para el proyecto. Es posible que te des cuenta de que necesitas librerías adicionales a medida que avanzas, lo cual es totalmente normal, solo asegúrate de actualizar esta sección cuando lo hagas.]"
   ]
  },
  {
   "cell_type": "code",
   "execution_count": 81,
   "metadata": {},
   "outputs": [],
   "source": [
    "# Cargar todas las librerías\n",
    "import pandas as pd\n",
    "import matplotlib.pyplot as plt\n",
    "import numpy as np\n",
    "import seaborn as sns\n",
    "import datetime"
   ]
  },
  {
   "cell_type": "markdown",
   "metadata": {},
   "source": [
    "### Cargar datos"
   ]
  },
  {
   "cell_type": "markdown",
   "metadata": {},
   "source": [
    "[Carga los datos del proyecto y mira la información general.]"
   ]
  },
  {
   "cell_type": "code",
   "execution_count": 82,
   "metadata": {},
   "outputs": [
    {
     "name": "stdout",
     "output_type": "stream",
     "text": [
      "       price  model_year           model  condition  cylinders fuel  odometer  \\\n",
      "0       9400      2011.0          bmw x5       good        6.0  gas  145000.0   \n",
      "1      25500         NaN      ford f-150       good        6.0  gas   88705.0   \n",
      "2       5500      2013.0  hyundai sonata   like new        4.0  gas  110000.0   \n",
      "3       1500      2003.0      ford f-150       fair        8.0  gas       NaN   \n",
      "4      14900      2017.0    chrysler 200  excellent        4.0  gas   80903.0   \n",
      "...      ...         ...             ...        ...        ...  ...       ...   \n",
      "51520   9249      2013.0   nissan maxima   like new        6.0  gas   88136.0   \n",
      "51521   2700      2002.0     honda civic    salvage        4.0  gas  181500.0   \n",
      "51522   3950      2009.0  hyundai sonata  excellent        4.0  gas  128000.0   \n",
      "51523   7455      2013.0  toyota corolla       good        4.0  gas  139573.0   \n",
      "51524   6300      2014.0   nissan altima       good        4.0  gas       NaN   \n",
      "\n",
      "      transmission    type paint_color  is_4wd date_posted  days_listed  \n",
      "0        automatic     SUV         NaN     1.0  2018-06-23           19  \n",
      "1        automatic  pickup       white     1.0  2018-10-19           50  \n",
      "2        automatic   sedan         red     NaN  2019-02-07           79  \n",
      "3        automatic  pickup         NaN     NaN  2019-03-22            9  \n",
      "4        automatic   sedan       black     NaN  2019-04-02           28  \n",
      "...            ...     ...         ...     ...         ...          ...  \n",
      "51520    automatic   sedan       black     NaN  2018-10-03           37  \n",
      "51521    automatic   sedan       white     NaN  2018-11-14           22  \n",
      "51522    automatic   sedan        blue     NaN  2018-11-15           32  \n",
      "51523    automatic   sedan       black     NaN  2018-07-02           71  \n",
      "51524    automatic   sedan         NaN     NaN  2018-06-05           10  \n",
      "\n",
      "[51525 rows x 13 columns]\n"
     ]
    }
   ],
   "source": [
    "# Carga el archivo de datos en un DataFrame\n",
    "df = pd.read_csv(\"/datasets/vehicles_us.csv\")\n",
    "print(df)\n"
   ]
  },
  {
   "cell_type": "markdown",
   "metadata": {},
   "source": [
    "### Explorar datos iniciales"
   ]
  },
  {
   "cell_type": "markdown",
   "metadata": {},
   "source": [
    "El dataset contiene los siguientes campos:\n",
    "- `price`\n",
    "- `model_year`\n",
    "- `model`\n",
    "- `condition`\n",
    "- `cylinders`\n",
    "- `fuel` — gasolina, diesel, etc.\n",
    "- `odometer` — el millaje del vehículo cuando el anuncio fue publicado\n",
    "- `transmission`\n",
    "- `paint_color`\n",
    "- `is_4wd` — si el vehículo tiene tracción a las 4 ruedas (tipo Booleano)\n",
    "- `date_posted` — la fecha en la que el anuncio fue publicado\n",
    "- `days_listed` — desde la publicación hasta que se elimina\n"
   ]
  },
  {
   "cell_type": "code",
   "execution_count": 83,
   "metadata": {},
   "outputs": [
    {
     "name": "stdout",
     "output_type": "stream",
     "text": [
      "<class 'pandas.core.frame.DataFrame'>\n",
      "RangeIndex: 51525 entries, 0 to 51524\n",
      "Data columns (total 13 columns):\n",
      " #   Column        Non-Null Count  Dtype  \n",
      "---  ------        --------------  -----  \n",
      " 0   price         51525 non-null  int64  \n",
      " 1   model_year    47906 non-null  float64\n",
      " 2   model         51525 non-null  object \n",
      " 3   condition     51525 non-null  object \n",
      " 4   cylinders     46265 non-null  float64\n",
      " 5   fuel          51525 non-null  object \n",
      " 6   odometer      43633 non-null  float64\n",
      " 7   transmission  51525 non-null  object \n",
      " 8   type          51525 non-null  object \n",
      " 9   paint_color   42258 non-null  object \n",
      " 10  is_4wd        25572 non-null  float64\n",
      " 11  date_posted   51525 non-null  object \n",
      " 12  days_listed   51525 non-null  int64  \n",
      "dtypes: float64(4), int64(2), object(7)\n",
      "memory usage: 5.1+ MB\n",
      "None\n"
     ]
    }
   ],
   "source": [
    "print(df.info())"
   ]
  },
  {
   "cell_type": "code",
   "execution_count": 84,
   "metadata": {},
   "outputs": [
    {
     "name": "stdout",
     "output_type": "stream",
     "text": [
      "   price  model_year           model  condition  cylinders fuel  odometer  \\\n",
      "0   9400      2011.0          bmw x5       good        6.0  gas  145000.0   \n",
      "1  25500         NaN      ford f-150       good        6.0  gas   88705.0   \n",
      "2   5500      2013.0  hyundai sonata   like new        4.0  gas  110000.0   \n",
      "3   1500      2003.0      ford f-150       fair        8.0  gas       NaN   \n",
      "4  14900      2017.0    chrysler 200  excellent        4.0  gas   80903.0   \n",
      "5  14990      2014.0    chrysler 300  excellent        6.0  gas   57954.0   \n",
      "6  12990      2015.0    toyota camry  excellent        4.0  gas   79212.0   \n",
      "7  15990      2013.0     honda pilot  excellent        6.0  gas  109473.0   \n",
      "8  11500      2012.0     kia sorento  excellent        4.0  gas  104174.0   \n",
      "9   9200      2008.0     honda pilot  excellent        NaN  gas  147191.0   \n",
      "\n",
      "  transmission    type paint_color  is_4wd date_posted  days_listed  \n",
      "0    automatic     SUV         NaN     1.0  2018-06-23           19  \n",
      "1    automatic  pickup       white     1.0  2018-10-19           50  \n",
      "2    automatic   sedan         red     NaN  2019-02-07           79  \n",
      "3    automatic  pickup         NaN     NaN  2019-03-22            9  \n",
      "4    automatic   sedan       black     NaN  2019-04-02           28  \n",
      "5    automatic   sedan       black     1.0  2018-06-20           15  \n",
      "6    automatic   sedan       white     NaN  2018-12-27           73  \n",
      "7    automatic     SUV       black     1.0  2019-01-07           68  \n",
      "8    automatic     SUV         NaN     1.0  2018-07-16           19  \n",
      "9    automatic     SUV        blue     1.0  2019-02-15           17  \n"
     ]
    }
   ],
   "source": [
    "# imprimir una muestra de datos\n",
    "print(df.head(10))"
   ]
  },
  {
   "cell_type": "markdown",
   "metadata": {},
   "source": [
    "Este es un conjunto de datos que contiene información sobre coches usados a la venta en un sitio web. Cada fila representa un coche y contiene información sobre su precio, año de modelo, modelo, condición, cilindros, combustible, odómetro, transmisión, tipo, color de pintura y si tiene tracción a las cuatro ruedas o no. También hay información sobre la fecha en que se publicó el anuncio y cuántos días estuvo en línea.\n",
    "\n",
    "El conjunto de datos tiene 10 filas y 13 columnas. Hay algunos valores faltantes en las columnas, como en la columna de color de pintura y la columna de cilindros. Además, hay valores numéricos y categóricos en el conjunto de datos.\n",
    "\n",
    "En general, este conjunto de datos se puede utilizar para realizar análisis exploratorios sobre el mercado de coches usados y para construir modelos de predicción de precios basados en diferentes variables.\n",
    "\n",
    "Valores faltantes: Como se mencionó anteriormente, hay valores faltantes en algunas columnas. Es posible que estos valores faltantes deban ser imputados o eliminados dependiendo de cómo afecten al análisis.\n",
    "\n",
    "Datos atípicos: Es posible que haya valores extremos en las columnas numéricas, como el precio y el odómetro. Es importante determinar si estos valores atípicos son errores o si representan casos reales que deben ser incluidos en el análisis.\n",
    "\n",
    "Datos inconsistentes: Es posible que haya inconsistencias en los datos, como el modelo del coche y el año del modelo. Por ejemplo, si el modelo del coche es un modelo que aún no se ha lanzado en el año del modelo especificado, podría haber un error en los datos.\n",
    "\n",
    "Sesgo de selección: Es posible que los datos no representen la población completa de coches usados a la venta en el mercado. Por ejemplo, es posible que los datos solo representen coches de una región geográfica específica o que solo se hayan incluido ciertos tipos de coches."
   ]
  },
  {
   "cell_type": "code",
   "execution_count": 85,
   "metadata": {},
   "outputs": [
    {
     "name": "stdout",
     "output_type": "stream",
     "text": [
      "1.0    25572\n",
      "Name: is_4wd, dtype: int64\n"
     ]
    }
   ],
   "source": [
    "print(df[\"is_4wd\"].value_counts())"
   ]
  },
  {
   "cell_type": "code",
   "execution_count": 86,
   "metadata": {},
   "outputs": [
    {
     "data": {
      "text/plain": [
       "price               0\n",
       "model_year       3619\n",
       "model               0\n",
       "condition           0\n",
       "cylinders        5260\n",
       "fuel                0\n",
       "odometer         7892\n",
       "transmission        0\n",
       "type                0\n",
       "paint_color      9267\n",
       "is_4wd          25953\n",
       "date_posted         0\n",
       "days_listed         0\n",
       "dtype: int64"
      ]
     },
     "execution_count": 86,
     "metadata": {},
     "output_type": "execute_result"
    }
   ],
   "source": [
    "df.isna().sum()"
   ]
  },
  {
   "cell_type": "code",
   "execution_count": 87,
   "metadata": {},
   "outputs": [
    {
     "data": {
      "text/plain": [
       "price            0.000000\n",
       "model_year       7.023775\n",
       "model            0.000000\n",
       "condition        0.000000\n",
       "cylinders       10.208637\n",
       "fuel             0.000000\n",
       "odometer        15.316836\n",
       "transmission     0.000000\n",
       "type             0.000000\n",
       "paint_color     17.985444\n",
       "is_4wd          50.369723\n",
       "date_posted      0.000000\n",
       "days_listed      0.000000\n",
       "dtype: float64"
      ]
     },
     "execution_count": 87,
     "metadata": {},
     "output_type": "execute_result"
    }
   ],
   "source": [
    "df.isna().sum() / len(df) * 100"
   ]
  },
  {
   "cell_type": "markdown",
   "metadata": {},
   "source": [
    "\n",
    "La columna \"model_year\" tiene un 7.02% de valores ausentes.\n",
    "\n",
    "La columna \"cylinders\" tiene un 10.21% de valores ausentes.\n",
    "\n",
    "La columna \"odometer\" tiene un 15.32% de valores ausentes.\n",
    "\n",
    "La columna \"paint_color\" tiene un 17.99% de valores ausentes.\n",
    "\n",
    "La columna \"is_4wd\" tiene un 50.37% de valores ausentes.\n",
    "\n",
    "Estos valores pueden ser útiles para determinar qué columnas pueden ser problemáticas para ciertos análisis y cómo manejar los valores ausentes. Por ejemplo, es posible que se desee eliminar las columnas que tienen una gran cantidad de valores ausentes si no son importantes para el análisis, o imputar valores para las columnas con una cantidad menor de valores ausentes."
   ]
  },
  {
   "cell_type": "markdown",
   "metadata": {},
   "source": [
    "### Conclusiones y siguientes pasos"
   ]
  },
  {
   "cell_type": "markdown",
   "metadata": {},
   "source": [
    "\"model_year\" Definir el año según modelo, requiere cambiar los valores ausentes.\n",
    "\n",
    "\"cylinders\" Se define con la media, debido a que las variables son de 4, 6 y 9.\n",
    "\n",
    "\"odometer\" Definir los kilometros según las variables, requiere cambiar los valores ausentes.\n",
    "\n",
    "\"paint_color\" Se define con la media.\n",
    "\n",
    "\"is_4wd\" Se elimina debido a que no es relevante para el analisis.\n"
   ]
  },
  {
   "cell_type": "markdown",
   "metadata": {},
   "source": [
    "## Tratar los valores ausentes (si hay)"
   ]
  },
  {
   "cell_type": "code",
   "execution_count": 89,
   "metadata": {},
   "outputs": [],
   "source": [
    "df[\"is_4wd\"] = df[\"is_4wd\"].fillna(0)"
   ]
  },
  {
   "cell_type": "code",
   "execution_count": 90,
   "metadata": {},
   "outputs": [
    {
     "name": "stdout",
     "output_type": "stream",
     "text": [
      "2015\n",
      "115553.4617376756\n"
     ]
    }
   ],
   "source": [
    "model_year_mean = 2015\n",
    "odometer_mean = df['odometer'].mean()\n",
    "\n",
    "print(model_year_mean)\n",
    "print(odometer_mean)"
   ]
  },
  {
   "cell_type": "code",
   "execution_count": 91,
   "metadata": {},
   "outputs": [
    {
     "name": "stdout",
     "output_type": "stream",
     "text": [
      "       price  model_year           model  condition  cylinders fuel  \\\n",
      "0       9400      2011.0          bmw x5       good        6.0  gas   \n",
      "1      25500      2015.0      ford f-150       good        6.0  gas   \n",
      "2       5500      2013.0  hyundai sonata   like new        4.0  gas   \n",
      "3       1500      2003.0      ford f-150       fair        8.0  gas   \n",
      "4      14900      2017.0    chrysler 200  excellent        4.0  gas   \n",
      "...      ...         ...             ...        ...        ...  ...   \n",
      "51520   9249      2013.0   nissan maxima   like new        6.0  gas   \n",
      "51521   2700      2002.0     honda civic    salvage        4.0  gas   \n",
      "51522   3950      2009.0  hyundai sonata  excellent        4.0  gas   \n",
      "51523   7455      2013.0  toyota corolla       good        4.0  gas   \n",
      "51524   6300      2014.0   nissan altima       good        4.0  gas   \n",
      "\n",
      "            odometer transmission    type paint_color  is_4wd date_posted  \\\n",
      "0      145000.000000    automatic     SUV         NaN     1.0  2018-06-23   \n",
      "1       88705.000000    automatic  pickup       white     1.0  2018-10-19   \n",
      "2      110000.000000    automatic   sedan         red     0.0  2019-02-07   \n",
      "3      115553.461738    automatic  pickup         NaN     0.0  2019-03-22   \n",
      "4       80903.000000    automatic   sedan       black     0.0  2019-04-02   \n",
      "...              ...          ...     ...         ...     ...         ...   \n",
      "51520   88136.000000    automatic   sedan       black     0.0  2018-10-03   \n",
      "51521  181500.000000    automatic   sedan       white     0.0  2018-11-14   \n",
      "51522  128000.000000    automatic   sedan        blue     0.0  2018-11-15   \n",
      "51523  139573.000000    automatic   sedan       black     0.0  2018-07-02   \n",
      "51524  115553.461738    automatic   sedan         NaN     0.0  2018-06-05   \n",
      "\n",
      "       days_listed  \n",
      "0               19  \n",
      "1               50  \n",
      "2               79  \n",
      "3                9  \n",
      "4               28  \n",
      "...            ...  \n",
      "51520           37  \n",
      "51521           22  \n",
      "51522           32  \n",
      "51523           71  \n",
      "51524           10  \n",
      "\n",
      "[51525 rows x 13 columns]\n"
     ]
    }
   ],
   "source": [
    "df['model_year'].fillna(model_year_mean, inplace=True)\n",
    "df['odometer'].fillna(odometer_mean, inplace=True)\n",
    "\n",
    "print(df)"
   ]
  },
  {
   "cell_type": "markdown",
   "metadata": {},
   "source": [
    "Se realiza lo especificado en el punto 1.1.3 para el desarrollo de los datos."
   ]
  },
  {
   "cell_type": "markdown",
   "metadata": {},
   "source": [
    "## Corregir los tipos de datos"
   ]
  },
  {
   "cell_type": "code",
   "execution_count": 92,
   "metadata": {},
   "outputs": [],
   "source": [
    "df['model_year'] = df['model_year'].astype(int)"
   ]
  },
  {
   "cell_type": "code",
   "execution_count": 93,
   "metadata": {},
   "outputs": [],
   "source": [
    "df[\"cylinders\"] = df[\"cylinders\"].fillna(6)"
   ]
  },
  {
   "cell_type": "code",
   "execution_count": 94,
   "metadata": {},
   "outputs": [
    {
     "name": "stdout",
     "output_type": "stream",
     "text": [
      "El color más común es: white\n"
     ]
    }
   ],
   "source": [
    "most_common_color = df['paint_color'].value_counts().index[0]\n",
    "print(\"El color más común es:\", most_common_color)"
   ]
  },
  {
   "cell_type": "code",
   "execution_count": 95,
   "metadata": {},
   "outputs": [],
   "source": [
    "df['paint_color'] = df['paint_color'].fillna(\"white\")"
   ]
  },
  {
   "cell_type": "code",
   "execution_count": 96,
   "metadata": {},
   "outputs": [
    {
     "data": {
      "text/html": [
       "<div>\n",
       "<style scoped>\n",
       "    .dataframe tbody tr th:only-of-type {\n",
       "        vertical-align: middle;\n",
       "    }\n",
       "\n",
       "    .dataframe tbody tr th {\n",
       "        vertical-align: top;\n",
       "    }\n",
       "\n",
       "    .dataframe thead th {\n",
       "        text-align: right;\n",
       "    }\n",
       "</style>\n",
       "<table border=\"1\" class=\"dataframe\">\n",
       "  <thead>\n",
       "    <tr style=\"text-align: right;\">\n",
       "      <th></th>\n",
       "      <th>price</th>\n",
       "      <th>model_year</th>\n",
       "      <th>model</th>\n",
       "      <th>condition</th>\n",
       "      <th>cylinders</th>\n",
       "      <th>fuel</th>\n",
       "      <th>odometer</th>\n",
       "      <th>transmission</th>\n",
       "      <th>type</th>\n",
       "      <th>paint_color</th>\n",
       "      <th>is_4wd</th>\n",
       "      <th>date_posted</th>\n",
       "      <th>days_listed</th>\n",
       "    </tr>\n",
       "  </thead>\n",
       "  <tbody>\n",
       "    <tr>\n",
       "      <th>0</th>\n",
       "      <td>9400</td>\n",
       "      <td>2011</td>\n",
       "      <td>bmw x5</td>\n",
       "      <td>good</td>\n",
       "      <td>6.0</td>\n",
       "      <td>gas</td>\n",
       "      <td>145000.000000</td>\n",
       "      <td>automatic</td>\n",
       "      <td>SUV</td>\n",
       "      <td>white</td>\n",
       "      <td>1.0</td>\n",
       "      <td>2018-06-23</td>\n",
       "      <td>19</td>\n",
       "    </tr>\n",
       "    <tr>\n",
       "      <th>1</th>\n",
       "      <td>25500</td>\n",
       "      <td>2015</td>\n",
       "      <td>ford f-150</td>\n",
       "      <td>good</td>\n",
       "      <td>6.0</td>\n",
       "      <td>gas</td>\n",
       "      <td>88705.000000</td>\n",
       "      <td>automatic</td>\n",
       "      <td>pickup</td>\n",
       "      <td>white</td>\n",
       "      <td>1.0</td>\n",
       "      <td>2018-10-19</td>\n",
       "      <td>50</td>\n",
       "    </tr>\n",
       "    <tr>\n",
       "      <th>2</th>\n",
       "      <td>5500</td>\n",
       "      <td>2013</td>\n",
       "      <td>hyundai sonata</td>\n",
       "      <td>like new</td>\n",
       "      <td>4.0</td>\n",
       "      <td>gas</td>\n",
       "      <td>110000.000000</td>\n",
       "      <td>automatic</td>\n",
       "      <td>sedan</td>\n",
       "      <td>red</td>\n",
       "      <td>0.0</td>\n",
       "      <td>2019-02-07</td>\n",
       "      <td>79</td>\n",
       "    </tr>\n",
       "    <tr>\n",
       "      <th>3</th>\n",
       "      <td>1500</td>\n",
       "      <td>2003</td>\n",
       "      <td>ford f-150</td>\n",
       "      <td>fair</td>\n",
       "      <td>8.0</td>\n",
       "      <td>gas</td>\n",
       "      <td>115553.461738</td>\n",
       "      <td>automatic</td>\n",
       "      <td>pickup</td>\n",
       "      <td>white</td>\n",
       "      <td>0.0</td>\n",
       "      <td>2019-03-22</td>\n",
       "      <td>9</td>\n",
       "    </tr>\n",
       "    <tr>\n",
       "      <th>4</th>\n",
       "      <td>14900</td>\n",
       "      <td>2017</td>\n",
       "      <td>chrysler 200</td>\n",
       "      <td>excellent</td>\n",
       "      <td>4.0</td>\n",
       "      <td>gas</td>\n",
       "      <td>80903.000000</td>\n",
       "      <td>automatic</td>\n",
       "      <td>sedan</td>\n",
       "      <td>black</td>\n",
       "      <td>0.0</td>\n",
       "      <td>2019-04-02</td>\n",
       "      <td>28</td>\n",
       "    </tr>\n",
       "    <tr>\n",
       "      <th>...</th>\n",
       "      <td>...</td>\n",
       "      <td>...</td>\n",
       "      <td>...</td>\n",
       "      <td>...</td>\n",
       "      <td>...</td>\n",
       "      <td>...</td>\n",
       "      <td>...</td>\n",
       "      <td>...</td>\n",
       "      <td>...</td>\n",
       "      <td>...</td>\n",
       "      <td>...</td>\n",
       "      <td>...</td>\n",
       "      <td>...</td>\n",
       "    </tr>\n",
       "    <tr>\n",
       "      <th>51520</th>\n",
       "      <td>9249</td>\n",
       "      <td>2013</td>\n",
       "      <td>nissan maxima</td>\n",
       "      <td>like new</td>\n",
       "      <td>6.0</td>\n",
       "      <td>gas</td>\n",
       "      <td>88136.000000</td>\n",
       "      <td>automatic</td>\n",
       "      <td>sedan</td>\n",
       "      <td>black</td>\n",
       "      <td>0.0</td>\n",
       "      <td>2018-10-03</td>\n",
       "      <td>37</td>\n",
       "    </tr>\n",
       "    <tr>\n",
       "      <th>51521</th>\n",
       "      <td>2700</td>\n",
       "      <td>2002</td>\n",
       "      <td>honda civic</td>\n",
       "      <td>salvage</td>\n",
       "      <td>4.0</td>\n",
       "      <td>gas</td>\n",
       "      <td>181500.000000</td>\n",
       "      <td>automatic</td>\n",
       "      <td>sedan</td>\n",
       "      <td>white</td>\n",
       "      <td>0.0</td>\n",
       "      <td>2018-11-14</td>\n",
       "      <td>22</td>\n",
       "    </tr>\n",
       "    <tr>\n",
       "      <th>51522</th>\n",
       "      <td>3950</td>\n",
       "      <td>2009</td>\n",
       "      <td>hyundai sonata</td>\n",
       "      <td>excellent</td>\n",
       "      <td>4.0</td>\n",
       "      <td>gas</td>\n",
       "      <td>128000.000000</td>\n",
       "      <td>automatic</td>\n",
       "      <td>sedan</td>\n",
       "      <td>blue</td>\n",
       "      <td>0.0</td>\n",
       "      <td>2018-11-15</td>\n",
       "      <td>32</td>\n",
       "    </tr>\n",
       "    <tr>\n",
       "      <th>51523</th>\n",
       "      <td>7455</td>\n",
       "      <td>2013</td>\n",
       "      <td>toyota corolla</td>\n",
       "      <td>good</td>\n",
       "      <td>4.0</td>\n",
       "      <td>gas</td>\n",
       "      <td>139573.000000</td>\n",
       "      <td>automatic</td>\n",
       "      <td>sedan</td>\n",
       "      <td>black</td>\n",
       "      <td>0.0</td>\n",
       "      <td>2018-07-02</td>\n",
       "      <td>71</td>\n",
       "    </tr>\n",
       "    <tr>\n",
       "      <th>51524</th>\n",
       "      <td>6300</td>\n",
       "      <td>2014</td>\n",
       "      <td>nissan altima</td>\n",
       "      <td>good</td>\n",
       "      <td>4.0</td>\n",
       "      <td>gas</td>\n",
       "      <td>115553.461738</td>\n",
       "      <td>automatic</td>\n",
       "      <td>sedan</td>\n",
       "      <td>white</td>\n",
       "      <td>0.0</td>\n",
       "      <td>2018-06-05</td>\n",
       "      <td>10</td>\n",
       "    </tr>\n",
       "  </tbody>\n",
       "</table>\n",
       "<p>51525 rows × 13 columns</p>\n",
       "</div>"
      ],
      "text/plain": [
       "       price  model_year           model  condition  cylinders fuel  \\\n",
       "0       9400        2011          bmw x5       good        6.0  gas   \n",
       "1      25500        2015      ford f-150       good        6.0  gas   \n",
       "2       5500        2013  hyundai sonata   like new        4.0  gas   \n",
       "3       1500        2003      ford f-150       fair        8.0  gas   \n",
       "4      14900        2017    chrysler 200  excellent        4.0  gas   \n",
       "...      ...         ...             ...        ...        ...  ...   \n",
       "51520   9249        2013   nissan maxima   like new        6.0  gas   \n",
       "51521   2700        2002     honda civic    salvage        4.0  gas   \n",
       "51522   3950        2009  hyundai sonata  excellent        4.0  gas   \n",
       "51523   7455        2013  toyota corolla       good        4.0  gas   \n",
       "51524   6300        2014   nissan altima       good        4.0  gas   \n",
       "\n",
       "            odometer transmission    type paint_color  is_4wd date_posted  \\\n",
       "0      145000.000000    automatic     SUV       white     1.0  2018-06-23   \n",
       "1       88705.000000    automatic  pickup       white     1.0  2018-10-19   \n",
       "2      110000.000000    automatic   sedan         red     0.0  2019-02-07   \n",
       "3      115553.461738    automatic  pickup       white     0.0  2019-03-22   \n",
       "4       80903.000000    automatic   sedan       black     0.0  2019-04-02   \n",
       "...              ...          ...     ...         ...     ...         ...   \n",
       "51520   88136.000000    automatic   sedan       black     0.0  2018-10-03   \n",
       "51521  181500.000000    automatic   sedan       white     0.0  2018-11-14   \n",
       "51522  128000.000000    automatic   sedan        blue     0.0  2018-11-15   \n",
       "51523  139573.000000    automatic   sedan       black     0.0  2018-07-02   \n",
       "51524  115553.461738    automatic   sedan       white     0.0  2018-06-05   \n",
       "\n",
       "       days_listed  \n",
       "0               19  \n",
       "1               50  \n",
       "2               79  \n",
       "3                9  \n",
       "4               28  \n",
       "...            ...  \n",
       "51520           37  \n",
       "51521           22  \n",
       "51522           32  \n",
       "51523           71  \n",
       "51524           10  \n",
       "\n",
       "[51525 rows x 13 columns]"
      ]
     },
     "execution_count": 96,
     "metadata": {},
     "output_type": "execute_result"
    }
   ],
   "source": [
    "df"
   ]
  },
  {
   "cell_type": "code",
   "execution_count": 97,
   "metadata": {},
   "outputs": [
    {
     "data": {
      "text/plain": [
       "price           0\n",
       "model_year      0\n",
       "model           0\n",
       "condition       0\n",
       "cylinders       0\n",
       "fuel            0\n",
       "odometer        0\n",
       "transmission    0\n",
       "type            0\n",
       "paint_color     0\n",
       "is_4wd          0\n",
       "date_posted     0\n",
       "days_listed     0\n",
       "dtype: int64"
      ]
     },
     "execution_count": 97,
     "metadata": {},
     "output_type": "execute_result"
    }
   ],
   "source": [
    "df.isnull().sum()"
   ]
  },
  {
   "cell_type": "code",
   "execution_count": 98,
   "metadata": {},
   "outputs": [
    {
     "name": "stdout",
     "output_type": "stream",
     "text": [
      "<class 'pandas.core.frame.DataFrame'>\n",
      "RangeIndex: 51525 entries, 0 to 51524\n",
      "Data columns (total 13 columns):\n",
      " #   Column        Non-Null Count  Dtype  \n",
      "---  ------        --------------  -----  \n",
      " 0   price         51525 non-null  int64  \n",
      " 1   model_year    51525 non-null  int64  \n",
      " 2   model         51525 non-null  object \n",
      " 3   condition     51525 non-null  object \n",
      " 4   cylinders     51525 non-null  float64\n",
      " 5   fuel          51525 non-null  object \n",
      " 6   odometer      51525 non-null  float64\n",
      " 7   transmission  51525 non-null  object \n",
      " 8   type          51525 non-null  object \n",
      " 9   paint_color   51525 non-null  object \n",
      " 10  is_4wd        51525 non-null  float64\n",
      " 11  date_posted   51525 non-null  object \n",
      " 12  days_listed   51525 non-null  int64  \n",
      "dtypes: float64(3), int64(3), object(7)\n",
      "memory usage: 5.1+ MB\n"
     ]
    }
   ],
   "source": [
    "df.info()"
   ]
  },
  {
   "cell_type": "code",
   "execution_count": 99,
   "metadata": {},
   "outputs": [],
   "source": [
    "df = df.reset_index(drop=True)"
   ]
  },
  {
   "cell_type": "markdown",
   "metadata": {},
   "source": [
    "Se realiza lo especificado en el punto 1.1.3 para el desarrollo de los datos."
   ]
  },
  {
   "cell_type": "markdown",
   "metadata": {},
   "source": [
    "## Enriquecer datos"
   ]
  },
  {
   "cell_type": "code",
   "execution_count": 100,
   "metadata": {},
   "outputs": [],
   "source": [
    "df['date_posted'] = df['date_posted'] + ' 12:00:00'"
   ]
  },
  {
   "cell_type": "code",
   "execution_count": 101,
   "metadata": {},
   "outputs": [
    {
     "data": {
      "text/plain": [
       "0        2018-06-23 12:00:00\n",
       "1        2018-10-19 12:00:00\n",
       "2        2019-02-07 12:00:00\n",
       "3        2019-03-22 12:00:00\n",
       "4        2019-04-02 12:00:00\n",
       "                ...         \n",
       "51520    2018-10-03 12:00:00\n",
       "51521    2018-11-14 12:00:00\n",
       "51522    2018-11-15 12:00:00\n",
       "51523    2018-07-02 12:00:00\n",
       "51524    2018-06-05 12:00:00\n",
       "Name: date_posted, Length: 51525, dtype: object"
      ]
     },
     "execution_count": 101,
     "metadata": {},
     "output_type": "execute_result"
    }
   ],
   "source": [
    "df[\"date_posted\"]"
   ]
  },
  {
   "cell_type": "markdown",
   "metadata": {},
   "source": [
    "Se decide que a las 12:00 horas del día se realiza cada publicación de autos."
   ]
  },
  {
   "cell_type": "code",
   "execution_count": 102,
   "metadata": {},
   "outputs": [
    {
     "name": "stdout",
     "output_type": "stream",
     "text": [
      "       price  model_year           model  condition  cylinders fuel  \\\n",
      "0       9400        2011          bmw x5       good        6.0  gas   \n",
      "1      25500        2015      ford f-150       good        6.0  gas   \n",
      "2       5500        2013  hyundai sonata   like new        4.0  gas   \n",
      "3       1500        2003      ford f-150       fair        8.0  gas   \n",
      "4      14900        2017    chrysler 200  excellent        4.0  gas   \n",
      "...      ...         ...             ...        ...        ...  ...   \n",
      "51520   9249        2013   nissan maxima   like new        6.0  gas   \n",
      "51521   2700        2002     honda civic    salvage        4.0  gas   \n",
      "51522   3950        2009  hyundai sonata  excellent        4.0  gas   \n",
      "51523   7455        2013  toyota corolla       good        4.0  gas   \n",
      "51524   6300        2014   nissan altima       good        4.0  gas   \n",
      "\n",
      "            odometer transmission    type paint_color  is_4wd  \\\n",
      "0      145000.000000    automatic     SUV       white     1.0   \n",
      "1       88705.000000    automatic  pickup       white     1.0   \n",
      "2      110000.000000    automatic   sedan         red     0.0   \n",
      "3      115553.461738    automatic  pickup       white     0.0   \n",
      "4       80903.000000    automatic   sedan       black     0.0   \n",
      "...              ...          ...     ...         ...     ...   \n",
      "51520   88136.000000    automatic   sedan       black     0.0   \n",
      "51521  181500.000000    automatic   sedan       white     0.0   \n",
      "51522  128000.000000    automatic   sedan        blue     0.0   \n",
      "51523  139573.000000    automatic   sedan       black     0.0   \n",
      "51524  115553.461738    automatic   sedan       white     0.0   \n",
      "\n",
      "               date_posted  days_listed  years_car  \n",
      "0      2018-06-23 12:00:00           19          7  \n",
      "1      2018-10-19 12:00:00           50          3  \n",
      "2      2019-02-07 12:00:00           79          6  \n",
      "3      2019-03-22 12:00:00            9         16  \n",
      "4      2019-04-02 12:00:00           28          2  \n",
      "...                    ...          ...        ...  \n",
      "51520  2018-10-03 12:00:00           37          5  \n",
      "51521  2018-11-14 12:00:00           22         16  \n",
      "51522  2018-11-15 12:00:00           32          9  \n",
      "51523  2018-07-02 12:00:00           71          5  \n",
      "51524  2018-06-05 12:00:00           10          4  \n",
      "\n",
      "[51525 rows x 14 columns]\n"
     ]
    }
   ],
   "source": [
    "df['date_posted'] = pd.to_datetime(df['date_posted'])\n",
    "\n",
    "df['date_posted'] = df['date_posted'].dt.date.astype(str) + ' 12:00:00'\n",
    "\n",
    "df['years_car'] = pd.to_datetime(df['date_posted']).dt.year - df['model_year']\n",
    "\n",
    "print(df)"
   ]
  },
  {
   "cell_type": "code",
   "execution_count": 103,
   "metadata": {},
   "outputs": [],
   "source": [
    "df['date_posted'] = pd.to_datetime(df['date_posted'], format='%Y-%m-%d %H:%M:%S')"
   ]
  },
  {
   "cell_type": "markdown",
   "metadata": {},
   "source": [
    "Se crea una nueva columna con \"years_car\" donde manifiesta los años desde que salio al mercado, hasta la fecha de publicación de la indumotora."
   ]
  },
  {
   "cell_type": "code",
   "execution_count": 104,
   "metadata": {},
   "outputs": [],
   "source": [
    "df['odometer'] = df['odometer'].astype(int)"
   ]
  },
  {
   "cell_type": "code",
   "execution_count": 105,
   "metadata": {},
   "outputs": [],
   "source": [
    "df['prom_km_year'] = df['odometer']/(df['years_car']+1)"
   ]
  },
  {
   "cell_type": "code",
   "execution_count": 106,
   "metadata": {},
   "outputs": [],
   "source": [
    "df['prom_km_year'] = df['prom_km_year'].astype(int)"
   ]
  },
  {
   "cell_type": "code",
   "execution_count": 107,
   "metadata": {},
   "outputs": [
    {
     "data": {
      "text/html": [
       "<div>\n",
       "<style scoped>\n",
       "    .dataframe tbody tr th:only-of-type {\n",
       "        vertical-align: middle;\n",
       "    }\n",
       "\n",
       "    .dataframe tbody tr th {\n",
       "        vertical-align: top;\n",
       "    }\n",
       "\n",
       "    .dataframe thead th {\n",
       "        text-align: right;\n",
       "    }\n",
       "</style>\n",
       "<table border=\"1\" class=\"dataframe\">\n",
       "  <thead>\n",
       "    <tr style=\"text-align: right;\">\n",
       "      <th></th>\n",
       "      <th>price</th>\n",
       "      <th>model_year</th>\n",
       "      <th>model</th>\n",
       "      <th>condition</th>\n",
       "      <th>cylinders</th>\n",
       "      <th>fuel</th>\n",
       "      <th>odometer</th>\n",
       "      <th>transmission</th>\n",
       "      <th>type</th>\n",
       "      <th>paint_color</th>\n",
       "      <th>is_4wd</th>\n",
       "      <th>date_posted</th>\n",
       "      <th>days_listed</th>\n",
       "      <th>years_car</th>\n",
       "      <th>prom_km_year</th>\n",
       "    </tr>\n",
       "  </thead>\n",
       "  <tbody>\n",
       "    <tr>\n",
       "      <th>0</th>\n",
       "      <td>9400</td>\n",
       "      <td>2011</td>\n",
       "      <td>bmw x5</td>\n",
       "      <td>good</td>\n",
       "      <td>6.0</td>\n",
       "      <td>gas</td>\n",
       "      <td>145000</td>\n",
       "      <td>automatic</td>\n",
       "      <td>SUV</td>\n",
       "      <td>white</td>\n",
       "      <td>1.0</td>\n",
       "      <td>2018-06-23 12:00:00</td>\n",
       "      <td>19</td>\n",
       "      <td>7</td>\n",
       "      <td>18125</td>\n",
       "    </tr>\n",
       "    <tr>\n",
       "      <th>1</th>\n",
       "      <td>25500</td>\n",
       "      <td>2015</td>\n",
       "      <td>ford f-150</td>\n",
       "      <td>good</td>\n",
       "      <td>6.0</td>\n",
       "      <td>gas</td>\n",
       "      <td>88705</td>\n",
       "      <td>automatic</td>\n",
       "      <td>pickup</td>\n",
       "      <td>white</td>\n",
       "      <td>1.0</td>\n",
       "      <td>2018-10-19 12:00:00</td>\n",
       "      <td>50</td>\n",
       "      <td>3</td>\n",
       "      <td>22176</td>\n",
       "    </tr>\n",
       "    <tr>\n",
       "      <th>2</th>\n",
       "      <td>5500</td>\n",
       "      <td>2013</td>\n",
       "      <td>hyundai sonata</td>\n",
       "      <td>like new</td>\n",
       "      <td>4.0</td>\n",
       "      <td>gas</td>\n",
       "      <td>110000</td>\n",
       "      <td>automatic</td>\n",
       "      <td>sedan</td>\n",
       "      <td>red</td>\n",
       "      <td>0.0</td>\n",
       "      <td>2019-02-07 12:00:00</td>\n",
       "      <td>79</td>\n",
       "      <td>6</td>\n",
       "      <td>15714</td>\n",
       "    </tr>\n",
       "    <tr>\n",
       "      <th>3</th>\n",
       "      <td>1500</td>\n",
       "      <td>2003</td>\n",
       "      <td>ford f-150</td>\n",
       "      <td>fair</td>\n",
       "      <td>8.0</td>\n",
       "      <td>gas</td>\n",
       "      <td>115553</td>\n",
       "      <td>automatic</td>\n",
       "      <td>pickup</td>\n",
       "      <td>white</td>\n",
       "      <td>0.0</td>\n",
       "      <td>2019-03-22 12:00:00</td>\n",
       "      <td>9</td>\n",
       "      <td>16</td>\n",
       "      <td>6797</td>\n",
       "    </tr>\n",
       "    <tr>\n",
       "      <th>4</th>\n",
       "      <td>14900</td>\n",
       "      <td>2017</td>\n",
       "      <td>chrysler 200</td>\n",
       "      <td>excellent</td>\n",
       "      <td>4.0</td>\n",
       "      <td>gas</td>\n",
       "      <td>80903</td>\n",
       "      <td>automatic</td>\n",
       "      <td>sedan</td>\n",
       "      <td>black</td>\n",
       "      <td>0.0</td>\n",
       "      <td>2019-04-02 12:00:00</td>\n",
       "      <td>28</td>\n",
       "      <td>2</td>\n",
       "      <td>26967</td>\n",
       "    </tr>\n",
       "    <tr>\n",
       "      <th>...</th>\n",
       "      <td>...</td>\n",
       "      <td>...</td>\n",
       "      <td>...</td>\n",
       "      <td>...</td>\n",
       "      <td>...</td>\n",
       "      <td>...</td>\n",
       "      <td>...</td>\n",
       "      <td>...</td>\n",
       "      <td>...</td>\n",
       "      <td>...</td>\n",
       "      <td>...</td>\n",
       "      <td>...</td>\n",
       "      <td>...</td>\n",
       "      <td>...</td>\n",
       "      <td>...</td>\n",
       "    </tr>\n",
       "    <tr>\n",
       "      <th>51520</th>\n",
       "      <td>9249</td>\n",
       "      <td>2013</td>\n",
       "      <td>nissan maxima</td>\n",
       "      <td>like new</td>\n",
       "      <td>6.0</td>\n",
       "      <td>gas</td>\n",
       "      <td>88136</td>\n",
       "      <td>automatic</td>\n",
       "      <td>sedan</td>\n",
       "      <td>black</td>\n",
       "      <td>0.0</td>\n",
       "      <td>2018-10-03 12:00:00</td>\n",
       "      <td>37</td>\n",
       "      <td>5</td>\n",
       "      <td>14689</td>\n",
       "    </tr>\n",
       "    <tr>\n",
       "      <th>51521</th>\n",
       "      <td>2700</td>\n",
       "      <td>2002</td>\n",
       "      <td>honda civic</td>\n",
       "      <td>salvage</td>\n",
       "      <td>4.0</td>\n",
       "      <td>gas</td>\n",
       "      <td>181500</td>\n",
       "      <td>automatic</td>\n",
       "      <td>sedan</td>\n",
       "      <td>white</td>\n",
       "      <td>0.0</td>\n",
       "      <td>2018-11-14 12:00:00</td>\n",
       "      <td>22</td>\n",
       "      <td>16</td>\n",
       "      <td>10676</td>\n",
       "    </tr>\n",
       "    <tr>\n",
       "      <th>51522</th>\n",
       "      <td>3950</td>\n",
       "      <td>2009</td>\n",
       "      <td>hyundai sonata</td>\n",
       "      <td>excellent</td>\n",
       "      <td>4.0</td>\n",
       "      <td>gas</td>\n",
       "      <td>128000</td>\n",
       "      <td>automatic</td>\n",
       "      <td>sedan</td>\n",
       "      <td>blue</td>\n",
       "      <td>0.0</td>\n",
       "      <td>2018-11-15 12:00:00</td>\n",
       "      <td>32</td>\n",
       "      <td>9</td>\n",
       "      <td>12800</td>\n",
       "    </tr>\n",
       "    <tr>\n",
       "      <th>51523</th>\n",
       "      <td>7455</td>\n",
       "      <td>2013</td>\n",
       "      <td>toyota corolla</td>\n",
       "      <td>good</td>\n",
       "      <td>4.0</td>\n",
       "      <td>gas</td>\n",
       "      <td>139573</td>\n",
       "      <td>automatic</td>\n",
       "      <td>sedan</td>\n",
       "      <td>black</td>\n",
       "      <td>0.0</td>\n",
       "      <td>2018-07-02 12:00:00</td>\n",
       "      <td>71</td>\n",
       "      <td>5</td>\n",
       "      <td>23262</td>\n",
       "    </tr>\n",
       "    <tr>\n",
       "      <th>51524</th>\n",
       "      <td>6300</td>\n",
       "      <td>2014</td>\n",
       "      <td>nissan altima</td>\n",
       "      <td>good</td>\n",
       "      <td>4.0</td>\n",
       "      <td>gas</td>\n",
       "      <td>115553</td>\n",
       "      <td>automatic</td>\n",
       "      <td>sedan</td>\n",
       "      <td>white</td>\n",
       "      <td>0.0</td>\n",
       "      <td>2018-06-05 12:00:00</td>\n",
       "      <td>10</td>\n",
       "      <td>4</td>\n",
       "      <td>23110</td>\n",
       "    </tr>\n",
       "  </tbody>\n",
       "</table>\n",
       "<p>51525 rows × 15 columns</p>\n",
       "</div>"
      ],
      "text/plain": [
       "       price  model_year           model  condition  cylinders fuel  odometer  \\\n",
       "0       9400        2011          bmw x5       good        6.0  gas    145000   \n",
       "1      25500        2015      ford f-150       good        6.0  gas     88705   \n",
       "2       5500        2013  hyundai sonata   like new        4.0  gas    110000   \n",
       "3       1500        2003      ford f-150       fair        8.0  gas    115553   \n",
       "4      14900        2017    chrysler 200  excellent        4.0  gas     80903   \n",
       "...      ...         ...             ...        ...        ...  ...       ...   \n",
       "51520   9249        2013   nissan maxima   like new        6.0  gas     88136   \n",
       "51521   2700        2002     honda civic    salvage        4.0  gas    181500   \n",
       "51522   3950        2009  hyundai sonata  excellent        4.0  gas    128000   \n",
       "51523   7455        2013  toyota corolla       good        4.0  gas    139573   \n",
       "51524   6300        2014   nissan altima       good        4.0  gas    115553   \n",
       "\n",
       "      transmission    type paint_color  is_4wd         date_posted  \\\n",
       "0        automatic     SUV       white     1.0 2018-06-23 12:00:00   \n",
       "1        automatic  pickup       white     1.0 2018-10-19 12:00:00   \n",
       "2        automatic   sedan         red     0.0 2019-02-07 12:00:00   \n",
       "3        automatic  pickup       white     0.0 2019-03-22 12:00:00   \n",
       "4        automatic   sedan       black     0.0 2019-04-02 12:00:00   \n",
       "...            ...     ...         ...     ...                 ...   \n",
       "51520    automatic   sedan       black     0.0 2018-10-03 12:00:00   \n",
       "51521    automatic   sedan       white     0.0 2018-11-14 12:00:00   \n",
       "51522    automatic   sedan        blue     0.0 2018-11-15 12:00:00   \n",
       "51523    automatic   sedan       black     0.0 2018-07-02 12:00:00   \n",
       "51524    automatic   sedan       white     0.0 2018-06-05 12:00:00   \n",
       "\n",
       "       days_listed  years_car  prom_km_year  \n",
       "0               19          7         18125  \n",
       "1               50          3         22176  \n",
       "2               79          6         15714  \n",
       "3                9         16          6797  \n",
       "4               28          2         26967  \n",
       "...            ...        ...           ...  \n",
       "51520           37          5         14689  \n",
       "51521           22         16         10676  \n",
       "51522           32          9         12800  \n",
       "51523           71          5         23262  \n",
       "51524           10          4         23110  \n",
       "\n",
       "[51525 rows x 15 columns]"
      ]
     },
     "execution_count": 107,
     "metadata": {},
     "output_type": "execute_result"
    }
   ],
   "source": [
    "df"
   ]
  },
  {
   "cell_type": "markdown",
   "metadata": {},
   "source": [
    "Se crea columna para el promedio según año de cada auto de la automotora."
   ]
  },
  {
   "cell_type": "code",
   "execution_count": 108,
   "metadata": {},
   "outputs": [
    {
     "name": "stdout",
     "output_type": "stream",
     "text": [
      "excellent    24773\n",
      "good         20145\n",
      "like new      4742\n",
      "fair          1607\n",
      "new            143\n",
      "salvage        115\n",
      "Name: condition, dtype: int64\n"
     ]
    }
   ],
   "source": [
    "print(df[\"condition\"].value_counts())"
   ]
  },
  {
   "cell_type": "code",
   "execution_count": 109,
   "metadata": {},
   "outputs": [],
   "source": [
    "df['condition'] = df['condition'].replace({\n",
    "    'excellent': 'bueno',\n",
    "    'good': 'bueno',\n",
    "    'like new': 'bueno',\n",
    "    'fair': 'estandar',\n",
    "    'new': 'bueno',\n",
    "    'salvage': 'restaurar'\n",
    "})"
   ]
  },
  {
   "cell_type": "markdown",
   "metadata": {},
   "source": [
    "Se restaura condición para que los datos sean más legibles."
   ]
  },
  {
   "cell_type": "markdown",
   "metadata": {},
   "source": [
    "## Comprobar datos limpios"
   ]
  },
  {
   "cell_type": "code",
   "execution_count": 110,
   "metadata": {},
   "outputs": [
    {
     "name": "stdout",
     "output_type": "stream",
     "text": [
      "<class 'pandas.core.frame.DataFrame'>\n",
      "RangeIndex: 51525 entries, 0 to 51524\n",
      "Data columns (total 15 columns):\n",
      " #   Column        Non-Null Count  Dtype         \n",
      "---  ------        --------------  -----         \n",
      " 0   price         51525 non-null  int64         \n",
      " 1   model_year    51525 non-null  int64         \n",
      " 2   model         51525 non-null  object        \n",
      " 3   condition     51525 non-null  object        \n",
      " 4   cylinders     51525 non-null  float64       \n",
      " 5   fuel          51525 non-null  object        \n",
      " 6   odometer      51525 non-null  int64         \n",
      " 7   transmission  51525 non-null  object        \n",
      " 8   type          51525 non-null  object        \n",
      " 9   paint_color   51525 non-null  object        \n",
      " 10  is_4wd        51525 non-null  float64       \n",
      " 11  date_posted   51525 non-null  datetime64[ns]\n",
      " 12  days_listed   51525 non-null  int64         \n",
      " 13  years_car     51525 non-null  int64         \n",
      " 14  prom_km_year  51525 non-null  int64         \n",
      "dtypes: datetime64[ns](1), float64(2), int64(6), object(6)\n",
      "memory usage: 5.9+ MB\n"
     ]
    }
   ],
   "source": [
    "# imprime la información general/resumida sobre el DataFrame\n",
    "df.info()"
   ]
  },
  {
   "cell_type": "code",
   "execution_count": 111,
   "metadata": {},
   "outputs": [
    {
     "data": {
      "text/html": [
       "<div>\n",
       "<style scoped>\n",
       "    .dataframe tbody tr th:only-of-type {\n",
       "        vertical-align: middle;\n",
       "    }\n",
       "\n",
       "    .dataframe tbody tr th {\n",
       "        vertical-align: top;\n",
       "    }\n",
       "\n",
       "    .dataframe thead th {\n",
       "        text-align: right;\n",
       "    }\n",
       "</style>\n",
       "<table border=\"1\" class=\"dataframe\">\n",
       "  <thead>\n",
       "    <tr style=\"text-align: right;\">\n",
       "      <th></th>\n",
       "      <th>price</th>\n",
       "      <th>model_year</th>\n",
       "      <th>model</th>\n",
       "      <th>condition</th>\n",
       "      <th>cylinders</th>\n",
       "      <th>fuel</th>\n",
       "      <th>odometer</th>\n",
       "      <th>transmission</th>\n",
       "      <th>type</th>\n",
       "      <th>paint_color</th>\n",
       "      <th>is_4wd</th>\n",
       "      <th>date_posted</th>\n",
       "      <th>days_listed</th>\n",
       "      <th>years_car</th>\n",
       "      <th>prom_km_year</th>\n",
       "    </tr>\n",
       "  </thead>\n",
       "  <tbody>\n",
       "    <tr>\n",
       "      <th>0</th>\n",
       "      <td>9400</td>\n",
       "      <td>2011</td>\n",
       "      <td>bmw x5</td>\n",
       "      <td>bueno</td>\n",
       "      <td>6.0</td>\n",
       "      <td>gas</td>\n",
       "      <td>145000</td>\n",
       "      <td>automatic</td>\n",
       "      <td>SUV</td>\n",
       "      <td>white</td>\n",
       "      <td>1.0</td>\n",
       "      <td>2018-06-23 12:00:00</td>\n",
       "      <td>19</td>\n",
       "      <td>7</td>\n",
       "      <td>18125</td>\n",
       "    </tr>\n",
       "    <tr>\n",
       "      <th>1</th>\n",
       "      <td>25500</td>\n",
       "      <td>2015</td>\n",
       "      <td>ford f-150</td>\n",
       "      <td>bueno</td>\n",
       "      <td>6.0</td>\n",
       "      <td>gas</td>\n",
       "      <td>88705</td>\n",
       "      <td>automatic</td>\n",
       "      <td>pickup</td>\n",
       "      <td>white</td>\n",
       "      <td>1.0</td>\n",
       "      <td>2018-10-19 12:00:00</td>\n",
       "      <td>50</td>\n",
       "      <td>3</td>\n",
       "      <td>22176</td>\n",
       "    </tr>\n",
       "    <tr>\n",
       "      <th>2</th>\n",
       "      <td>5500</td>\n",
       "      <td>2013</td>\n",
       "      <td>hyundai sonata</td>\n",
       "      <td>bueno</td>\n",
       "      <td>4.0</td>\n",
       "      <td>gas</td>\n",
       "      <td>110000</td>\n",
       "      <td>automatic</td>\n",
       "      <td>sedan</td>\n",
       "      <td>red</td>\n",
       "      <td>0.0</td>\n",
       "      <td>2019-02-07 12:00:00</td>\n",
       "      <td>79</td>\n",
       "      <td>6</td>\n",
       "      <td>15714</td>\n",
       "    </tr>\n",
       "    <tr>\n",
       "      <th>3</th>\n",
       "      <td>1500</td>\n",
       "      <td>2003</td>\n",
       "      <td>ford f-150</td>\n",
       "      <td>estandar</td>\n",
       "      <td>8.0</td>\n",
       "      <td>gas</td>\n",
       "      <td>115553</td>\n",
       "      <td>automatic</td>\n",
       "      <td>pickup</td>\n",
       "      <td>white</td>\n",
       "      <td>0.0</td>\n",
       "      <td>2019-03-22 12:00:00</td>\n",
       "      <td>9</td>\n",
       "      <td>16</td>\n",
       "      <td>6797</td>\n",
       "    </tr>\n",
       "    <tr>\n",
       "      <th>4</th>\n",
       "      <td>14900</td>\n",
       "      <td>2017</td>\n",
       "      <td>chrysler 200</td>\n",
       "      <td>bueno</td>\n",
       "      <td>4.0</td>\n",
       "      <td>gas</td>\n",
       "      <td>80903</td>\n",
       "      <td>automatic</td>\n",
       "      <td>sedan</td>\n",
       "      <td>black</td>\n",
       "      <td>0.0</td>\n",
       "      <td>2019-04-02 12:00:00</td>\n",
       "      <td>28</td>\n",
       "      <td>2</td>\n",
       "      <td>26967</td>\n",
       "    </tr>\n",
       "    <tr>\n",
       "      <th>5</th>\n",
       "      <td>14990</td>\n",
       "      <td>2014</td>\n",
       "      <td>chrysler 300</td>\n",
       "      <td>bueno</td>\n",
       "      <td>6.0</td>\n",
       "      <td>gas</td>\n",
       "      <td>57954</td>\n",
       "      <td>automatic</td>\n",
       "      <td>sedan</td>\n",
       "      <td>black</td>\n",
       "      <td>1.0</td>\n",
       "      <td>2018-06-20 12:00:00</td>\n",
       "      <td>15</td>\n",
       "      <td>4</td>\n",
       "      <td>11590</td>\n",
       "    </tr>\n",
       "    <tr>\n",
       "      <th>6</th>\n",
       "      <td>12990</td>\n",
       "      <td>2015</td>\n",
       "      <td>toyota camry</td>\n",
       "      <td>bueno</td>\n",
       "      <td>4.0</td>\n",
       "      <td>gas</td>\n",
       "      <td>79212</td>\n",
       "      <td>automatic</td>\n",
       "      <td>sedan</td>\n",
       "      <td>white</td>\n",
       "      <td>0.0</td>\n",
       "      <td>2018-12-27 12:00:00</td>\n",
       "      <td>73</td>\n",
       "      <td>3</td>\n",
       "      <td>19803</td>\n",
       "    </tr>\n",
       "    <tr>\n",
       "      <th>7</th>\n",
       "      <td>15990</td>\n",
       "      <td>2013</td>\n",
       "      <td>honda pilot</td>\n",
       "      <td>bueno</td>\n",
       "      <td>6.0</td>\n",
       "      <td>gas</td>\n",
       "      <td>109473</td>\n",
       "      <td>automatic</td>\n",
       "      <td>SUV</td>\n",
       "      <td>black</td>\n",
       "      <td>1.0</td>\n",
       "      <td>2019-01-07 12:00:00</td>\n",
       "      <td>68</td>\n",
       "      <td>6</td>\n",
       "      <td>15639</td>\n",
       "    </tr>\n",
       "    <tr>\n",
       "      <th>8</th>\n",
       "      <td>11500</td>\n",
       "      <td>2012</td>\n",
       "      <td>kia sorento</td>\n",
       "      <td>bueno</td>\n",
       "      <td>4.0</td>\n",
       "      <td>gas</td>\n",
       "      <td>104174</td>\n",
       "      <td>automatic</td>\n",
       "      <td>SUV</td>\n",
       "      <td>white</td>\n",
       "      <td>1.0</td>\n",
       "      <td>2018-07-16 12:00:00</td>\n",
       "      <td>19</td>\n",
       "      <td>6</td>\n",
       "      <td>14882</td>\n",
       "    </tr>\n",
       "    <tr>\n",
       "      <th>9</th>\n",
       "      <td>9200</td>\n",
       "      <td>2008</td>\n",
       "      <td>honda pilot</td>\n",
       "      <td>bueno</td>\n",
       "      <td>6.0</td>\n",
       "      <td>gas</td>\n",
       "      <td>147191</td>\n",
       "      <td>automatic</td>\n",
       "      <td>SUV</td>\n",
       "      <td>blue</td>\n",
       "      <td>1.0</td>\n",
       "      <td>2019-02-15 12:00:00</td>\n",
       "      <td>17</td>\n",
       "      <td>11</td>\n",
       "      <td>12265</td>\n",
       "    </tr>\n",
       "  </tbody>\n",
       "</table>\n",
       "</div>"
      ],
      "text/plain": [
       "   price  model_year           model condition  cylinders fuel  odometer  \\\n",
       "0   9400        2011          bmw x5     bueno        6.0  gas    145000   \n",
       "1  25500        2015      ford f-150     bueno        6.0  gas     88705   \n",
       "2   5500        2013  hyundai sonata     bueno        4.0  gas    110000   \n",
       "3   1500        2003      ford f-150  estandar        8.0  gas    115553   \n",
       "4  14900        2017    chrysler 200     bueno        4.0  gas     80903   \n",
       "5  14990        2014    chrysler 300     bueno        6.0  gas     57954   \n",
       "6  12990        2015    toyota camry     bueno        4.0  gas     79212   \n",
       "7  15990        2013     honda pilot     bueno        6.0  gas    109473   \n",
       "8  11500        2012     kia sorento     bueno        4.0  gas    104174   \n",
       "9   9200        2008     honda pilot     bueno        6.0  gas    147191   \n",
       "\n",
       "  transmission    type paint_color  is_4wd         date_posted  days_listed  \\\n",
       "0    automatic     SUV       white     1.0 2018-06-23 12:00:00           19   \n",
       "1    automatic  pickup       white     1.0 2018-10-19 12:00:00           50   \n",
       "2    automatic   sedan         red     0.0 2019-02-07 12:00:00           79   \n",
       "3    automatic  pickup       white     0.0 2019-03-22 12:00:00            9   \n",
       "4    automatic   sedan       black     0.0 2019-04-02 12:00:00           28   \n",
       "5    automatic   sedan       black     1.0 2018-06-20 12:00:00           15   \n",
       "6    automatic   sedan       white     0.0 2018-12-27 12:00:00           73   \n",
       "7    automatic     SUV       black     1.0 2019-01-07 12:00:00           68   \n",
       "8    automatic     SUV       white     1.0 2018-07-16 12:00:00           19   \n",
       "9    automatic     SUV        blue     1.0 2019-02-15 12:00:00           17   \n",
       "\n",
       "   years_car  prom_km_year  \n",
       "0          7         18125  \n",
       "1          3         22176  \n",
       "2          6         15714  \n",
       "3         16          6797  \n",
       "4          2         26967  \n",
       "5          4         11590  \n",
       "6          3         19803  \n",
       "7          6         15639  \n",
       "8          6         14882  \n",
       "9         11         12265  "
      ]
     },
     "execution_count": 111,
     "metadata": {},
     "output_type": "execute_result"
    }
   ],
   "source": [
    "# imprimir una muestra de datos\n",
    "df.head(10)"
   ]
  },
  {
   "cell_type": "code",
   "execution_count": 112,
   "metadata": {},
   "outputs": [
    {
     "data": {
      "text/html": [
       "<div>\n",
       "<style scoped>\n",
       "    .dataframe tbody tr th:only-of-type {\n",
       "        vertical-align: middle;\n",
       "    }\n",
       "\n",
       "    .dataframe tbody tr th {\n",
       "        vertical-align: top;\n",
       "    }\n",
       "\n",
       "    .dataframe thead th {\n",
       "        text-align: right;\n",
       "    }\n",
       "</style>\n",
       "<table border=\"1\" class=\"dataframe\">\n",
       "  <thead>\n",
       "    <tr style=\"text-align: right;\">\n",
       "      <th></th>\n",
       "      <th>price</th>\n",
       "      <th>model_year</th>\n",
       "      <th>model</th>\n",
       "      <th>condition</th>\n",
       "      <th>cylinders</th>\n",
       "      <th>fuel</th>\n",
       "      <th>odometer</th>\n",
       "      <th>transmission</th>\n",
       "      <th>type</th>\n",
       "      <th>paint_color</th>\n",
       "      <th>is_4wd</th>\n",
       "      <th>date_posted</th>\n",
       "      <th>days_listed</th>\n",
       "      <th>years_car</th>\n",
       "      <th>prom_km_year</th>\n",
       "    </tr>\n",
       "  </thead>\n",
       "  <tbody>\n",
       "    <tr>\n",
       "      <th>51520</th>\n",
       "      <td>9249</td>\n",
       "      <td>2013</td>\n",
       "      <td>nissan maxima</td>\n",
       "      <td>bueno</td>\n",
       "      <td>6.0</td>\n",
       "      <td>gas</td>\n",
       "      <td>88136</td>\n",
       "      <td>automatic</td>\n",
       "      <td>sedan</td>\n",
       "      <td>black</td>\n",
       "      <td>0.0</td>\n",
       "      <td>2018-10-03 12:00:00</td>\n",
       "      <td>37</td>\n",
       "      <td>5</td>\n",
       "      <td>14689</td>\n",
       "    </tr>\n",
       "    <tr>\n",
       "      <th>51521</th>\n",
       "      <td>2700</td>\n",
       "      <td>2002</td>\n",
       "      <td>honda civic</td>\n",
       "      <td>restaurar</td>\n",
       "      <td>4.0</td>\n",
       "      <td>gas</td>\n",
       "      <td>181500</td>\n",
       "      <td>automatic</td>\n",
       "      <td>sedan</td>\n",
       "      <td>white</td>\n",
       "      <td>0.0</td>\n",
       "      <td>2018-11-14 12:00:00</td>\n",
       "      <td>22</td>\n",
       "      <td>16</td>\n",
       "      <td>10676</td>\n",
       "    </tr>\n",
       "    <tr>\n",
       "      <th>51522</th>\n",
       "      <td>3950</td>\n",
       "      <td>2009</td>\n",
       "      <td>hyundai sonata</td>\n",
       "      <td>bueno</td>\n",
       "      <td>4.0</td>\n",
       "      <td>gas</td>\n",
       "      <td>128000</td>\n",
       "      <td>automatic</td>\n",
       "      <td>sedan</td>\n",
       "      <td>blue</td>\n",
       "      <td>0.0</td>\n",
       "      <td>2018-11-15 12:00:00</td>\n",
       "      <td>32</td>\n",
       "      <td>9</td>\n",
       "      <td>12800</td>\n",
       "    </tr>\n",
       "    <tr>\n",
       "      <th>51523</th>\n",
       "      <td>7455</td>\n",
       "      <td>2013</td>\n",
       "      <td>toyota corolla</td>\n",
       "      <td>bueno</td>\n",
       "      <td>4.0</td>\n",
       "      <td>gas</td>\n",
       "      <td>139573</td>\n",
       "      <td>automatic</td>\n",
       "      <td>sedan</td>\n",
       "      <td>black</td>\n",
       "      <td>0.0</td>\n",
       "      <td>2018-07-02 12:00:00</td>\n",
       "      <td>71</td>\n",
       "      <td>5</td>\n",
       "      <td>23262</td>\n",
       "    </tr>\n",
       "    <tr>\n",
       "      <th>51524</th>\n",
       "      <td>6300</td>\n",
       "      <td>2014</td>\n",
       "      <td>nissan altima</td>\n",
       "      <td>bueno</td>\n",
       "      <td>4.0</td>\n",
       "      <td>gas</td>\n",
       "      <td>115553</td>\n",
       "      <td>automatic</td>\n",
       "      <td>sedan</td>\n",
       "      <td>white</td>\n",
       "      <td>0.0</td>\n",
       "      <td>2018-06-05 12:00:00</td>\n",
       "      <td>10</td>\n",
       "      <td>4</td>\n",
       "      <td>23110</td>\n",
       "    </tr>\n",
       "  </tbody>\n",
       "</table>\n",
       "</div>"
      ],
      "text/plain": [
       "       price  model_year           model  condition  cylinders fuel  odometer  \\\n",
       "51520   9249        2013   nissan maxima      bueno        6.0  gas     88136   \n",
       "51521   2700        2002     honda civic  restaurar        4.0  gas    181500   \n",
       "51522   3950        2009  hyundai sonata      bueno        4.0  gas    128000   \n",
       "51523   7455        2013  toyota corolla      bueno        4.0  gas    139573   \n",
       "51524   6300        2014   nissan altima      bueno        4.0  gas    115553   \n",
       "\n",
       "      transmission   type paint_color  is_4wd         date_posted  \\\n",
       "51520    automatic  sedan       black     0.0 2018-10-03 12:00:00   \n",
       "51521    automatic  sedan       white     0.0 2018-11-14 12:00:00   \n",
       "51522    automatic  sedan        blue     0.0 2018-11-15 12:00:00   \n",
       "51523    automatic  sedan       black     0.0 2018-07-02 12:00:00   \n",
       "51524    automatic  sedan       white     0.0 2018-06-05 12:00:00   \n",
       "\n",
       "       days_listed  years_car  prom_km_year  \n",
       "51520           37          5         14689  \n",
       "51521           22         16         10676  \n",
       "51522           32          9         12800  \n",
       "51523           71          5         23262  \n",
       "51524           10          4         23110  "
      ]
     },
     "execution_count": 112,
     "metadata": {},
     "output_type": "execute_result"
    }
   ],
   "source": [
    "df.tail(5)"
   ]
  },
  {
   "cell_type": "markdown",
   "metadata": {},
   "source": [
    "## Estudiar parámetros principales\n",
    "\n",
    "[Elige un enfoque apropiado para estudiar los parámetros enumerados a continuación, presta especial atención a cómo los valores atípicos afectan la forma y la legibilidad de los histogramas.]\n",
    "\n",
    "Los parámetros son:\n",
    "- Precio\n",
    "- Los años del vehículo cuando el anuncio se colocó\n",
    "- Millaje\n",
    "- Número de cilindros\n",
    "- Estado"
   ]
  },
  {
   "cell_type": "code",
   "execution_count": 113,
   "metadata": {},
   "outputs": [
    {
     "data": {
      "image/png": "[encoded data removed]",
      "text/plain": [
       "<Figure size 432x288 with 1 Axes>"
      ]
     },
     "metadata": {
      "needs_background": "light"
     },
     "output_type": "display_data"
    }
   ],
   "source": [
    "#Precio\n",
    "plt.hist(df['price'], bins=20)\n",
    "\n",
    "# Agrega etiquetas de los ejes y un título\n",
    "plt.xlabel('Precio')\n",
    "plt.ylabel('Frecuencia')\n",
    "plt.title('Histograma de precios de vehículos')\n",
    "\n",
    "# Muestra el histograma\n",
    "plt.show()"
   ]
  },
  {
   "cell_type": "code",
   "execution_count": 114,
   "metadata": {},
   "outputs": [
    {
     "data": {
      "image/png": "[encoded data removed]",
      "text/plain": [
       "<Figure size 432x288 with 1 Axes>"
      ]
     },
     "metadata": {
      "needs_background": "light"
     },
     "output_type": "display_data"
    }
   ],
   "source": [
    "df.plot.scatter(x='model_year', y='price', alpha=0.5)\n",
    "plt.title('Scatter plot of Price vs. Model_year')\n",
    "plt.xlabel('Model_year')\n",
    "plt.ylabel('Price')\n",
    "plt.show()"
   ]
  },
  {
   "cell_type": "markdown",
   "metadata": {},
   "source": [
    "El rango de price tiende a ser distinto o variado según el auto, pasa que hay modelos que son extravagantes que salen de la media o mediana, por lo que estos rangos e información son correctos."
   ]
  },
  {
   "cell_type": "code",
   "execution_count": 115,
   "metadata": {},
   "outputs": [
    {
     "data": {
      "image/png": "[encoded data removed]",
      "text/plain": [
       "<Figure size 432x288 with 1 Axes>"
      ]
     },
     "metadata": {
      "needs_background": "light"
     },
     "output_type": "display_data"
    }
   ],
   "source": [
    "bins = [0, 5, 10, 15, 20, 25, 30, 35, 40]\n",
    "plt.hist(df['years_car'], bins=bins, edgecolor='black')\n",
    "\n",
    "plt.xlabel('Años de los autos')\n",
    "plt.ylabel('Cantidad de autos')\n",
    "plt.title('Cantidad de autos por años')\n",
    "\n",
    "plt.hist(df['years_car'], bins=bins, edgecolor='black')\n",
    "\n",
    "plt.xlabel('Años de los autos')\n",
    "plt.ylabel('Cantidad de autos')\n",
    "plt.title('Cantidad de autos por años')\n",
    "\n",
    "plt.show()"
   ]
  },
  {
   "cell_type": "markdown",
   "metadata": {},
   "source": [
    "Estos datos calzan perfecto a los entregados por DF, ya que, existen autos que son antiguos pero bien cuidados considerados reliquias."
   ]
  },
  {
   "cell_type": "code",
   "execution_count": 116,
   "metadata": {},
   "outputs": [
    {
     "data": {
      "image/png": "[encoded data removed]",
      "text/plain": [
       "<Figure size 432x288 with 1 Axes>"
      ]
     },
     "metadata": {
      "needs_background": "light"
     },
     "output_type": "display_data"
    }
   ],
   "source": [
    "plt.hist(df['odometer'], bins=50, edgecolor='black', alpha=0.5, label='Odometer', density=True)\n",
    "\n",
    "plt.hist(df['prom_km_year'], bins=50, edgecolor='black', alpha=0.5, label='Promedio de kilómetros por año', density=True)\n",
    "\n",
    "plt.xlabel('Kilometraje')\n",
    "plt.ylabel('Frecuencia')\n",
    "plt.title('Histograma de kilómetros y promedio de kilómetros por año')\n",
    "\n",
    "plt.legend()\n",
    "\n",
    "plt.show()"
   ]
  },
  {
   "cell_type": "markdown",
   "metadata": {},
   "source": [
    "Grafico Histograma: muestra los kilometros vs los kilometros promedios por año, se aprecia lo estimado para considerar una compra de un auto en exelente estado comparado con todos los autos que han existido en la distribuidora.\n",
    "\n",
    "Gráfico de dispersión: este tipo de gráfico es ideal para visualizar la relación entre dos variables continuas, como odometer y prom_kg. Cada punto en el gráfico representa una observación, y la posición de cada punto en los ejes x e y indica los valores de odometer y prom_kg, respectivamente."
   ]
  },
  {
   "cell_type": "code",
   "execution_count": 117,
   "metadata": {},
   "outputs": [
    {
     "data": {
      "image/png": "[encoded data removed]",
      "text/plain": [
       "<Figure size 432x288 with 1 Axes>"
      ]
     },
     "metadata": {
      "needs_background": "light"
     },
     "output_type": "display_data"
    }
   ],
   "source": [
    "df.plot.scatter(x='odometer', y='prom_km_year', alpha=0.5)\n",
    "plt.title('Diagrama de dispersión del odómetro vs. Prom_km')\n",
    "plt.xlabel('Odometer')\n",
    "plt.ylabel('Prom_km_year')\n",
    "plt.show()"
   ]
  },
  {
   "cell_type": "code",
   "execution_count": 118,
   "metadata": {},
   "outputs": [
    {
     "data": {
      "image/png": "[encoded data removed]",
      "text/plain": [
       "<Figure size 432x288 with 1 Axes>"
      ]
     },
     "metadata": {
      "needs_background": "light"
     },
     "output_type": "display_data"
    }
   ],
   "source": [
    "df.groupby('type')[\"odometer\"].mean().sort_values().plot(kind='bar')\n",
    "plt.title('kilometros')\n",
    "plt.xlabel('Type')\n",
    "plt.ylabel('Kilometros')\n",
    "plt.show()"
   ]
  },
  {
   "cell_type": "code",
   "execution_count": 119,
   "metadata": {},
   "outputs": [
    {
     "data": {
      "text/plain": [
       "10504    15\n",
       "9629     14\n",
       "19258    14\n",
       "14444    13\n",
       "23110    13\n",
       "         ..\n",
       "21243     1\n",
       "19198     1\n",
       "21247     1\n",
       "13062     1\n",
       "8189      1\n",
       "Name: prom_km_year, Length: 820, dtype: int64"
      ]
     },
     "execution_count": 119,
     "metadata": {},
     "output_type": "execute_result"
    }
   ],
   "source": [
    "df[df['type'] == 'mini-van']['prom_km_year'].value_counts()"
   ]
  },
  {
   "cell_type": "markdown",
   "metadata": {},
   "source": [
    "El grafico muestra como el auto mini-van es el más utilizado, "
   ]
  },
  {
   "cell_type": "code",
   "execution_count": 120,
   "metadata": {},
   "outputs": [
    {
     "data": {
      "image/png": "[encoded data removed]",
      "text/plain": [
       "<Figure size 432x288 with 1 Axes>"
      ]
     },
     "metadata": {
      "needs_background": "light"
     },
     "output_type": "display_data"
    }
   ],
   "source": [
    "df.groupby('type')['cylinders'].mean().sort_values().plot(kind='bar')\n",
    "plt.title('Bar plot of Cylinders by Type')\n",
    "plt.xlabel('Type')\n",
    "plt.ylabel('Cylinders')\n",
    "plt.show()"
   ]
  },
  {
   "cell_type": "markdown",
   "metadata": {},
   "source": [
    "Aqui se encuentra el promedio de cilindros según el tipo de autos, por lo que se ve el promedio osila entre 8, 6 y 4."
   ]
  },
  {
   "cell_type": "code",
   "execution_count": 121,
   "metadata": {},
   "outputs": [
    {
     "data": {
      "image/png": "[encoded data removed]",
      "text/plain": [
       "<Figure size 432x288 with 1 Axes>"
      ]
     },
     "metadata": {
      "needs_background": "light"
     },
     "output_type": "display_data"
    }
   ],
   "source": [
    "df.plot.scatter(x='model_year', y='price', color='blue', alpha=0.5)\n",
    "\n",
    "# Configurar el título y los ejes del gráfico\n",
    "plt.title('Precio vs Año de Modelo')\n",
    "plt.xlabel('Año de Modelo')\n",
    "plt.ylabel('Precio')\n",
    "\n",
    "plt.show()"
   ]
  },
  {
   "cell_type": "markdown",
   "metadata": {},
   "source": [
    "El precio estandas osila entre los 1000 hasta los 100000."
   ]
  },
  {
   "cell_type": "code",
   "execution_count": 122,
   "metadata": {},
   "outputs": [
    {
     "data": {
      "image/png": "[encoded data removed]",
      "text/plain": [
       "<Figure size 432x288 with 1 Axes>"
      ]
     },
     "metadata": {
      "needs_background": "light"
     },
     "output_type": "display_data"
    }
   ],
   "source": [
    "df.plot.scatter(x='condition', y='price', color='green')\n",
    "\n",
    "# Configurar el título y los ejes del gráfico\n",
    "plt.title('Precio vs Condición')\n",
    "plt.xlabel('Condición')\n",
    "plt.ylabel('Precio')\n",
    "\n",
    "# Mostrar el gráfico\n",
    "plt.show()"
   ]
  },
  {
   "cell_type": "markdown",
   "metadata": {},
   "source": [
    "El precio según la condión es mayormente bueno, los otros se concentran en rangos bajo los 50000"
   ]
  },
  {
   "cell_type": "code",
   "execution_count": 123,
   "metadata": {},
   "outputs": [
    {
     "data": {
      "image/png": "[encoded data removed]",
      "text/plain": [
       "<Figure size 432x288 with 1 Axes>"
      ]
     },
     "metadata": {
      "needs_background": "light"
     },
     "output_type": "display_data"
    }
   ],
   "source": [
    "df.plot.scatter(x='odometer', y='price', color='red', alpha=0.5)\n",
    "\n",
    "# Configurar el título y los ejes del gráfico\n",
    "plt.title('Precio vs Kilometraje')\n",
    "plt.xlabel('Kilometraje')\n",
    "plt.ylabel('Precio')\n",
    "\n",
    "# Mostrar el gráfico\n",
    "plt.show()"
   ]
  },
  {
   "cell_type": "markdown",
   "metadata": {},
   "source": [
    "El precio según el kilometraje se concentra entre los 100k hacia abajo, donde a expone que a mayor kilometraje menos cantidad de autos entran en el rango."
   ]
  },
  {
   "cell_type": "markdown",
   "metadata": {},
   "source": [
    "## Estudiar y tratar valores atípicos\n"
   ]
  },
  {
   "cell_type": "code",
   "execution_count": 124,
   "metadata": {},
   "outputs": [
    {
     "data": {
      "text/plain": [
       "990000"
      ]
     },
     "execution_count": 124,
     "metadata": {},
     "output_type": "execute_result"
    }
   ],
   "source": [
    "df[\"odometer\"].max()"
   ]
  },
  {
   "cell_type": "code",
   "execution_count": 125,
   "metadata": {},
   "outputs": [
    {
     "data": {
      "image/png": "[encoded data removed]",
      "text/plain": [
       "<Figure size 1008x432 with 1 Axes>"
      ]
     },
     "metadata": {
      "needs_background": "light"
     },
     "output_type": "display_data"
    }
   ],
   "source": [
    "resultados = df.loc[df['odometer'] > 350000]\n",
    "\n",
    "fig, ax = plt.subplots(figsize=(14, 6))\n",
    "fig.subplots_adjust(bottom=0.2)\n",
    "\n",
    "plt.bar(resultados['type'], resultados['days_listed'])\n",
    "plt.xlabel('Type')\n",
    "plt.ylabel('Km')\n",
    "plt.show()"
   ]
  },
  {
   "cell_type": "code",
   "execution_count": 126,
   "metadata": {},
   "outputs": [],
   "source": [
    "nuevo_df = df.loc[df['odometer'] <= 200000]\n",
    "nuevo_df = df.loc[df['price'] <= 150000]\n",
    "\n",
    "nuevo_df.to_csv(\"nuevo_dataframe.csv\", index=False)"
   ]
  },
  {
   "cell_type": "markdown",
   "metadata": {},
   "source": [
    "Se genera un nuevo df, colocando el limite superior de KM que deberia tener un auto para su funcionamiento, y limite inferior de condición sería precio."
   ]
  },
  {
   "cell_type": "code",
   "execution_count": 127,
   "metadata": {},
   "outputs": [
    {
     "data": {
      "text/html": [
       "<div>\n",
       "<style scoped>\n",
       "    .dataframe tbody tr th:only-of-type {\n",
       "        vertical-align: middle;\n",
       "    }\n",
       "\n",
       "    .dataframe tbody tr th {\n",
       "        vertical-align: top;\n",
       "    }\n",
       "\n",
       "    .dataframe thead th {\n",
       "        text-align: right;\n",
       "    }\n",
       "</style>\n",
       "<table border=\"1\" class=\"dataframe\">\n",
       "  <thead>\n",
       "    <tr style=\"text-align: right;\">\n",
       "      <th></th>\n",
       "      <th>price</th>\n",
       "      <th>model_year</th>\n",
       "      <th>model</th>\n",
       "      <th>condition</th>\n",
       "      <th>cylinders</th>\n",
       "      <th>fuel</th>\n",
       "      <th>odometer</th>\n",
       "      <th>transmission</th>\n",
       "      <th>type</th>\n",
       "      <th>paint_color</th>\n",
       "      <th>is_4wd</th>\n",
       "      <th>date_posted</th>\n",
       "      <th>days_listed</th>\n",
       "      <th>years_car</th>\n",
       "      <th>prom_km_year</th>\n",
       "    </tr>\n",
       "  </thead>\n",
       "  <tbody>\n",
       "    <tr>\n",
       "      <th>0</th>\n",
       "      <td>9400</td>\n",
       "      <td>2011</td>\n",
       "      <td>bmw x5</td>\n",
       "      <td>bueno</td>\n",
       "      <td>6.0</td>\n",
       "      <td>gas</td>\n",
       "      <td>145000</td>\n",
       "      <td>automatic</td>\n",
       "      <td>SUV</td>\n",
       "      <td>white</td>\n",
       "      <td>1.0</td>\n",
       "      <td>2018-06-23 12:00:00</td>\n",
       "      <td>19</td>\n",
       "      <td>7</td>\n",
       "      <td>18125</td>\n",
       "    </tr>\n",
       "    <tr>\n",
       "      <th>1</th>\n",
       "      <td>25500</td>\n",
       "      <td>2015</td>\n",
       "      <td>ford f-150</td>\n",
       "      <td>bueno</td>\n",
       "      <td>6.0</td>\n",
       "      <td>gas</td>\n",
       "      <td>88705</td>\n",
       "      <td>automatic</td>\n",
       "      <td>pickup</td>\n",
       "      <td>white</td>\n",
       "      <td>1.0</td>\n",
       "      <td>2018-10-19 12:00:00</td>\n",
       "      <td>50</td>\n",
       "      <td>3</td>\n",
       "      <td>22176</td>\n",
       "    </tr>\n",
       "    <tr>\n",
       "      <th>2</th>\n",
       "      <td>5500</td>\n",
       "      <td>2013</td>\n",
       "      <td>hyundai sonata</td>\n",
       "      <td>bueno</td>\n",
       "      <td>4.0</td>\n",
       "      <td>gas</td>\n",
       "      <td>110000</td>\n",
       "      <td>automatic</td>\n",
       "      <td>sedan</td>\n",
       "      <td>red</td>\n",
       "      <td>0.0</td>\n",
       "      <td>2019-02-07 12:00:00</td>\n",
       "      <td>79</td>\n",
       "      <td>6</td>\n",
       "      <td>15714</td>\n",
       "    </tr>\n",
       "    <tr>\n",
       "      <th>3</th>\n",
       "      <td>1500</td>\n",
       "      <td>2003</td>\n",
       "      <td>ford f-150</td>\n",
       "      <td>estandar</td>\n",
       "      <td>8.0</td>\n",
       "      <td>gas</td>\n",
       "      <td>115553</td>\n",
       "      <td>automatic</td>\n",
       "      <td>pickup</td>\n",
       "      <td>white</td>\n",
       "      <td>0.0</td>\n",
       "      <td>2019-03-22 12:00:00</td>\n",
       "      <td>9</td>\n",
       "      <td>16</td>\n",
       "      <td>6797</td>\n",
       "    </tr>\n",
       "    <tr>\n",
       "      <th>4</th>\n",
       "      <td>14900</td>\n",
       "      <td>2017</td>\n",
       "      <td>chrysler 200</td>\n",
       "      <td>bueno</td>\n",
       "      <td>4.0</td>\n",
       "      <td>gas</td>\n",
       "      <td>80903</td>\n",
       "      <td>automatic</td>\n",
       "      <td>sedan</td>\n",
       "      <td>black</td>\n",
       "      <td>0.0</td>\n",
       "      <td>2019-04-02 12:00:00</td>\n",
       "      <td>28</td>\n",
       "      <td>2</td>\n",
       "      <td>26967</td>\n",
       "    </tr>\n",
       "    <tr>\n",
       "      <th>...</th>\n",
       "      <td>...</td>\n",
       "      <td>...</td>\n",
       "      <td>...</td>\n",
       "      <td>...</td>\n",
       "      <td>...</td>\n",
       "      <td>...</td>\n",
       "      <td>...</td>\n",
       "      <td>...</td>\n",
       "      <td>...</td>\n",
       "      <td>...</td>\n",
       "      <td>...</td>\n",
       "      <td>...</td>\n",
       "      <td>...</td>\n",
       "      <td>...</td>\n",
       "      <td>...</td>\n",
       "    </tr>\n",
       "    <tr>\n",
       "      <th>51520</th>\n",
       "      <td>9249</td>\n",
       "      <td>2013</td>\n",
       "      <td>nissan maxima</td>\n",
       "      <td>bueno</td>\n",
       "      <td>6.0</td>\n",
       "      <td>gas</td>\n",
       "      <td>88136</td>\n",
       "      <td>automatic</td>\n",
       "      <td>sedan</td>\n",
       "      <td>black</td>\n",
       "      <td>0.0</td>\n",
       "      <td>2018-10-03 12:00:00</td>\n",
       "      <td>37</td>\n",
       "      <td>5</td>\n",
       "      <td>14689</td>\n",
       "    </tr>\n",
       "    <tr>\n",
       "      <th>51521</th>\n",
       "      <td>2700</td>\n",
       "      <td>2002</td>\n",
       "      <td>honda civic</td>\n",
       "      <td>restaurar</td>\n",
       "      <td>4.0</td>\n",
       "      <td>gas</td>\n",
       "      <td>181500</td>\n",
       "      <td>automatic</td>\n",
       "      <td>sedan</td>\n",
       "      <td>white</td>\n",
       "      <td>0.0</td>\n",
       "      <td>2018-11-14 12:00:00</td>\n",
       "      <td>22</td>\n",
       "      <td>16</td>\n",
       "      <td>10676</td>\n",
       "    </tr>\n",
       "    <tr>\n",
       "      <th>51522</th>\n",
       "      <td>3950</td>\n",
       "      <td>2009</td>\n",
       "      <td>hyundai sonata</td>\n",
       "      <td>bueno</td>\n",
       "      <td>4.0</td>\n",
       "      <td>gas</td>\n",
       "      <td>128000</td>\n",
       "      <td>automatic</td>\n",
       "      <td>sedan</td>\n",
       "      <td>blue</td>\n",
       "      <td>0.0</td>\n",
       "      <td>2018-11-15 12:00:00</td>\n",
       "      <td>32</td>\n",
       "      <td>9</td>\n",
       "      <td>12800</td>\n",
       "    </tr>\n",
       "    <tr>\n",
       "      <th>51523</th>\n",
       "      <td>7455</td>\n",
       "      <td>2013</td>\n",
       "      <td>toyota corolla</td>\n",
       "      <td>bueno</td>\n",
       "      <td>4.0</td>\n",
       "      <td>gas</td>\n",
       "      <td>139573</td>\n",
       "      <td>automatic</td>\n",
       "      <td>sedan</td>\n",
       "      <td>black</td>\n",
       "      <td>0.0</td>\n",
       "      <td>2018-07-02 12:00:00</td>\n",
       "      <td>71</td>\n",
       "      <td>5</td>\n",
       "      <td>23262</td>\n",
       "    </tr>\n",
       "    <tr>\n",
       "      <th>51524</th>\n",
       "      <td>6300</td>\n",
       "      <td>2014</td>\n",
       "      <td>nissan altima</td>\n",
       "      <td>bueno</td>\n",
       "      <td>4.0</td>\n",
       "      <td>gas</td>\n",
       "      <td>115553</td>\n",
       "      <td>automatic</td>\n",
       "      <td>sedan</td>\n",
       "      <td>white</td>\n",
       "      <td>0.0</td>\n",
       "      <td>2018-06-05 12:00:00</td>\n",
       "      <td>10</td>\n",
       "      <td>4</td>\n",
       "      <td>23110</td>\n",
       "    </tr>\n",
       "  </tbody>\n",
       "</table>\n",
       "<p>51516 rows × 15 columns</p>\n",
       "</div>"
      ],
      "text/plain": [
       "       price  model_year           model  condition  cylinders fuel  odometer  \\\n",
       "0       9400        2011          bmw x5      bueno        6.0  gas    145000   \n",
       "1      25500        2015      ford f-150      bueno        6.0  gas     88705   \n",
       "2       5500        2013  hyundai sonata      bueno        4.0  gas    110000   \n",
       "3       1500        2003      ford f-150   estandar        8.0  gas    115553   \n",
       "4      14900        2017    chrysler 200      bueno        4.0  gas     80903   \n",
       "...      ...         ...             ...        ...        ...  ...       ...   \n",
       "51520   9249        2013   nissan maxima      bueno        6.0  gas     88136   \n",
       "51521   2700        2002     honda civic  restaurar        4.0  gas    181500   \n",
       "51522   3950        2009  hyundai sonata      bueno        4.0  gas    128000   \n",
       "51523   7455        2013  toyota corolla      bueno        4.0  gas    139573   \n",
       "51524   6300        2014   nissan altima      bueno        4.0  gas    115553   \n",
       "\n",
       "      transmission    type paint_color  is_4wd         date_posted  \\\n",
       "0        automatic     SUV       white     1.0 2018-06-23 12:00:00   \n",
       "1        automatic  pickup       white     1.0 2018-10-19 12:00:00   \n",
       "2        automatic   sedan         red     0.0 2019-02-07 12:00:00   \n",
       "3        automatic  pickup       white     0.0 2019-03-22 12:00:00   \n",
       "4        automatic   sedan       black     0.0 2019-04-02 12:00:00   \n",
       "...            ...     ...         ...     ...                 ...   \n",
       "51520    automatic   sedan       black     0.0 2018-10-03 12:00:00   \n",
       "51521    automatic   sedan       white     0.0 2018-11-14 12:00:00   \n",
       "51522    automatic   sedan        blue     0.0 2018-11-15 12:00:00   \n",
       "51523    automatic   sedan       black     0.0 2018-07-02 12:00:00   \n",
       "51524    automatic   sedan       white     0.0 2018-06-05 12:00:00   \n",
       "\n",
       "       days_listed  years_car  prom_km_year  \n",
       "0               19          7         18125  \n",
       "1               50          3         22176  \n",
       "2               79          6         15714  \n",
       "3                9         16          6797  \n",
       "4               28          2         26967  \n",
       "...            ...        ...           ...  \n",
       "51520           37          5         14689  \n",
       "51521           22         16         10676  \n",
       "51522           32          9         12800  \n",
       "51523           71          5         23262  \n",
       "51524           10          4         23110  \n",
       "\n",
       "[51516 rows x 15 columns]"
      ]
     },
     "execution_count": 127,
     "metadata": {},
     "output_type": "execute_result"
    }
   ],
   "source": [
    "nuevo_df"
   ]
  },
  {
   "cell_type": "markdown",
   "metadata": {},
   "source": [
    "## Estudiar parámetros principales sin valores atípicos"
   ]
  },
  {
   "cell_type": "markdown",
   "metadata": {},
   "source": [
    "[Utiliza los datos filtrados para crear nuevos histogramas. Compáralos con los histogramas anteriores (aquellos con los valores atípicos incluidos). Saca conclusiones de cada histograma.]"
   ]
  },
  {
   "cell_type": "code",
   "execution_count": 128,
   "metadata": {},
   "outputs": [
    {
     "data": {
      "image/png": "[encoded data removed]",
      "text/plain": [
       "<Figure size 432x288 with 1 Axes>"
      ]
     },
     "metadata": {
      "needs_background": "light"
     },
     "output_type": "display_data"
    }
   ],
   "source": [
    "plt.hist(nuevo_df['odometer'], bins=50, edgecolor='black', alpha=0.5, label='Odometer', density=True)\n",
    "\n",
    "plt.hist(nuevo_df['prom_km_year'], bins=50, edgecolor='black', alpha=0.8, label='Promedio de kilómetros por año', density=True)\n",
    "\n",
    "plt.xlabel('Kilometraje')\n",
    "plt.ylabel('Frecuencia')\n",
    "plt.title('Histograma de kilómetros y promedio de kilómetros por año')\n",
    "\n",
    "plt.legend()\n",
    "\n",
    "plt.show()"
   ]
  },
  {
   "cell_type": "markdown",
   "metadata": {},
   "source": [
    "Los KM se encuentras más cercanos al promedio."
   ]
  },
  {
   "cell_type": "markdown",
   "metadata": {},
   "source": [
    "## Periodo de colocación de los anuncios\n",
    "\n",
    "[Estudia cuántos días los anuncios fueron mostrados (`days_listed`). Calcula la media y la mediana. Describe el periodo de colocación habitual de un anuncio. Determina cuándo se eliminaron rápidamente los anuncios y cuándo son publicados por un tiempo anormalmente largo.]"
   ]
  },
  {
   "cell_type": "code",
   "execution_count": 129,
   "metadata": {},
   "outputs": [
    {
     "name": "stdout",
     "output_type": "stream",
     "text": [
      "La media de days_listed es: 39.55475982532751\n",
      "La mediana de days_listed es: 33.0\n"
     ]
    }
   ],
   "source": [
    "media = df[\"days_listed\"].mean()\n",
    "mediana = df[\"days_listed\"].median()\n",
    "\n",
    "print(\"La media de days_listed es:\", media)\n",
    "print(\"La mediana de days_listed es:\", mediana)"
   ]
  },
  {
   "cell_type": "code",
   "execution_count": 130,
   "metadata": {},
   "outputs": [
    {
     "name": "stdout",
     "output_type": "stream",
     "text": [
      "El valor mínimo de days_listed es: 0\n",
      "El valor máximo de days_listed es: 271\n"
     ]
    },
    {
     "data": {
      "text/plain": [
       "<AxesSubplot:>"
      ]
     },
     "execution_count": 130,
     "metadata": {},
     "output_type": "execute_result"
    },
    {
     "data": {
      "image/png": "[encoded data removed]",
      "text/plain": [
       "<Figure size 432x288 with 1 Axes>"
      ]
     },
     "metadata": {
      "needs_background": "light"
     },
     "output_type": "display_data"
    }
   ],
   "source": [
    "minimo = df[\"days_listed\"].min()\n",
    "maximo = df[\"days_listed\"].max()\n",
    "\n",
    "print(\"El valor mínimo de days_listed es:\", minimo)\n",
    "print(\"El valor máximo de days_listed es:\", maximo)\n",
    "\n",
    "df[\"days_listed\"].hist(bins=50)"
   ]
  },
  {
   "cell_type": "code",
   "execution_count": 131,
   "metadata": {},
   "outputs": [
    {
     "name": "stdout",
     "output_type": "stream",
     "text": [
      "Los valores atípicos de days_listed son:\n",
      "       price  model_year                         model condition  cylinders  \\\n",
      "15     17990        2013                      ram 1500     bueno        8.0   \n",
      "34      9500        2008             toyota highlander     bueno        6.0   \n",
      "51      3800        2012                    ford focus     bueno        4.0   \n",
      "89     18800        2015  chevrolet camaro lt coupe 2d     bueno        6.0   \n",
      "104    22900        2014   ford f150 supercrew cab xlt     bueno        6.0   \n",
      "...      ...         ...                           ...       ...        ...   \n",
      "51368   2775        2007                    ford focus     bueno        6.0   \n",
      "51374   9700        2010                 honda odyssey     bueno        6.0   \n",
      "51407   5495        2006                  jeep liberty     bueno        6.0   \n",
      "51489   1200        2005              volkswagen jetta  estandar        5.0   \n",
      "51502   7995        2011             chevrolet equinox     bueno        4.0   \n",
      "\n",
      "      fuel  odometer transmission      type paint_color  is_4wd  \\\n",
      "15     gas    115553    automatic    pickup         red     1.0   \n",
      "34     gas    149799    automatic       SUV       white     0.0   \n",
      "51     gas    130323    automatic     sedan       black     0.0   \n",
      "89     gas     33926        other     coupe        grey     0.0   \n",
      "104    gas     73711    automatic    pickup       white     1.0   \n",
      "...    ...       ...          ...       ...         ...     ...   \n",
      "51368  gas    111450    automatic     sedan      silver     0.0   \n",
      "51374  gas    105656    automatic  mini-van        grey     0.0   \n",
      "51407  gas    108388    automatic     wagon       white     1.0   \n",
      "51489  gas    185000    automatic     sedan        grey     0.0   \n",
      "51502  gas    111088    automatic       SUV       white     0.0   \n",
      "\n",
      "              date_posted  days_listed  years_car  prom_km_year  \n",
      "15    2018-05-15 12:00:00          111          5         19258  \n",
      "34    2018-06-04 12:00:00          121         10         13618  \n",
      "51    2018-11-29 12:00:00          261          6         18617  \n",
      "89    2019-01-16 12:00:00          152          4          6785  \n",
      "104   2019-02-27 12:00:00          141          5         12285  \n",
      "...                   ...          ...        ...           ...  \n",
      "51368 2018-08-23 12:00:00          141         11          9287  \n",
      "51374 2019-01-18 12:00:00          111          9         10565  \n",
      "51407 2018-12-24 12:00:00          106         12          8337  \n",
      "51489 2018-10-10 12:00:00          158         13         13214  \n",
      "51502 2019-04-01 12:00:00          175          8         12343  \n",
      "\n",
      "[1618 rows x 15 columns]\n"
     ]
    },
    {
     "data": {
      "image/png": "[encoded data removed]",
      "text/plain": [
       "<Figure size 432x288 with 1 Axes>"
      ]
     },
     "metadata": {
      "needs_background": "light"
     },
     "output_type": "display_data"
    }
   ],
   "source": [
    "nuevo_df[\"days_listed\"].hist(bins=50)\n",
    "\n",
    "q1 = nuevo_df[\"days_listed\"].quantile(0.25)\n",
    "q3 = nuevo_df[\"days_listed\"].quantile(0.75)\n",
    "rango_intercuartilico = q3 - q1\n",
    "limite_inferior = q1 - 1.5 * rango_intercuartilico\n",
    "limite_superior = q3 + 1.5 * rango_intercuartilico\n",
    "\n",
    "valores_atipicos = nuevo_df[(nuevo_df[\"days_listed\"] < limite_inferior) | (nuevo_df[\"days_listed\"] > limite_superior)]\n",
    "\n",
    "print(\"Los valores atípicos de days_listed son:\")\n",
    "print(valores_atipicos)"
   ]
  },
  {
   "cell_type": "markdown",
   "metadata": {},
   "source": [
    "En este código, utilizamos el rango intercuartilico (IQR) para identificar valores atípicos en la columna \"days_listed\". Cualquier valor que esté por debajo del límite inferior o por encima del límite superior se considera un valor atípico. Los valores atípicos se imprimen en la salida. Podemos examinarlos para determinar si corresponden a anuncios que se eliminaron rápidamente o que se publicaron durante un tiempo anormalmente largo."
   ]
  },
  {
   "cell_type": "markdown",
   "metadata": {},
   "source": [
    "## Precio promedio por cada tipo de vehículo"
   ]
  },
  {
   "cell_type": "markdown",
   "metadata": {},
   "source": [
    "[Analiza el número de anuncios y el precio promedio para cada tipo de vehículo. Traza un gráfico mostrando la dependencia de la cantidad de anuncios en cada tipo de vehículo. Selecciona los dos tipos con un mayor número de anuncios.]"
   ]
  },
  {
   "cell_type": "code",
   "execution_count": 132,
   "metadata": {},
   "outputs": [
    {
     "name": "stdout",
     "output_type": "stream",
     "text": [
      "Los tipos de vehículo con mayor número de anuncios son:\n",
      "type\n",
      "SUV      12405\n",
      "truck    12345\n",
      "Name: model, dtype: int64\n",
      "El precio promedio para los dos tipos con más anuncios es:\n",
      "type\n",
      "SUV      11149.400000\n",
      "truck    16615.403564\n",
      "Name: price, dtype: float64\n"
     ]
    },
    {
     "data": {
      "image/png": "[encoded data removed]",
      "text/plain": [
       "<Figure size 432x288 with 1 Axes>"
      ]
     },
     "metadata": {
      "needs_background": "light"
     },
     "output_type": "display_data"
    }
   ],
   "source": [
    "grupo_tipo_vehiculo = nuevo_df.groupby(\"type\")\n",
    "num_anuncios_por_tipo = grupo_tipo_vehiculo[\"model\"].count()\n",
    "precio_promedio_por_tipo = grupo_tipo_vehiculo[\"price\"].mean()\n",
    "\n",
    "num_anuncios_por_tipo.sort_values(ascending=False).plot(kind=\"bar\")\n",
    "plt.xlabel(\"Tipo de vehículo\")\n",
    "plt.ylabel(\"Número de anuncios\")\n",
    "plt.title(\"Cantidad de anuncios por tipo de vehículo\")\n",
    "\n",
    "tipos_con_mas_anuncios = num_anuncios_por_tipo.nlargest(2)\n",
    "precio_promedio_tipos_con_mas_anuncios = precio_promedio_por_tipo.loc[tipos_con_mas_anuncios.index]\n",
    "print(\"Los tipos de vehículo con mayor número de anuncios son:\")\n",
    "print(tipos_con_mas_anuncios)\n",
    "print(\"El precio promedio para los dos tipos con más anuncios es:\")\n",
    "print(precio_promedio_tipos_con_mas_anuncios)\n",
    "\n",
    "plt.show()"
   ]
  },
  {
   "cell_type": "markdown",
   "metadata": {},
   "source": [
    "## Factores de precio"
   ]
  },
  {
   "cell_type": "markdown",
   "metadata": {},
   "source": [
    "[¿Qué factores impactan más sobre el precio? Toma cada uno de los tipos más populares que has detectado en la fase anterior y estudia si el precio depende de la edad, millaje, condición, tipo de transmisión y color. Para las variables categóricas (tipo de transmisión y color) traza gráficos de caja y bigotes y crea gráficos de dispersión para el resto. Cuando analices variables categóricas, observa que las categorías deben tener al menos 50 anuncios; si no, sus parámetros no serán válidos para el análisis.]"
   ]
  },
  {
   "cell_type": "markdown",
   "metadata": {},
   "source": [
    "[Utiliza matriz de correlación y diagramas de correlación]"
   ]
  },
  {
   "cell_type": "code",
   "execution_count": 133,
   "metadata": {},
   "outputs": [
    {
     "data": {
      "image/png": "[encoded data removed]",
      "text/plain": [
       "<Figure size 432x288 with 2 Axes>"
      ]
     },
     "metadata": {
      "needs_background": "light"
     },
     "output_type": "display_data"
    }
   ],
   "source": [
    "corr = df[['price', 'model_year', 'odometer']].corr()\n",
    "sns.heatmap(corr, annot=True, cmap='coolwarm')\n",
    "plt.title('Correlation matrix')\n",
    "plt.show()"
   ]
  },
  {
   "cell_type": "markdown",
   "metadata": {},
   "source": [
    "En esta matriz de correlación, podemos observar la correlación entre las variables numéricas: el precio, la edad y el millaje del vehículo. Podemos ver que el precio está más correlacionado con la edad y el millaje del vehículo, lo que indica que estos factores pueden impactar más sobre el precio."
   ]
  },
  {
   "cell_type": "code",
   "execution_count": 134,
   "metadata": {},
   "outputs": [
    {
     "data": {
      "image/png": "[encoded data removed]",
      "text/plain": [
       "<Figure size 432x288 with 1 Axes>"
      ]
     },
     "metadata": {
      "needs_background": "light"
     },
     "output_type": "display_data"
    }
   ],
   "source": [
    "sns.boxplot(x='price', y='transmission', data=nuevo_df)\n",
    "plt.title('Price by type of transmission and vehicle type')\n",
    "plt.show()"
   ]
  },
  {
   "cell_type": "markdown",
   "metadata": {},
   "source": [
    "<div class=\"alert alert-block alert-success\">\n",
    "<b>Comentario del evaluador</b> <a class=\"tocSkip\"></a>\n",
    "\n",
    "Muy buen box plot, ayuda a comparar las distribuciones y los colores ayudan a que se vea muy bien.\n",
    "</div>"
   ]
  },
  {
   "cell_type": "markdown",
   "metadata": {},
   "source": [
    "Este gráfico muestra la distribución de precios para cada tipo de vehículo, separado por tipo de transmisión. Podemos observar si hay alguna diferencia en los precios según el tipo de transmisión, y si esta diferencia varía según el tipo de vehículo."
   ]
  },
  {
   "cell_type": "code",
   "execution_count": 135,
   "metadata": {},
   "outputs": [
    {
     "data": {
      "image/png": "[encoded data removed]",
      "text/plain": [
       "<Figure size 432x288 with 1 Axes>"
      ]
     },
     "metadata": {
      "needs_background": "light"
     },
     "output_type": "display_data"
    },
    {
     "data": {
      "image/png": "[encoded data removed]",
      "text/plain": [
       "<Figure size 432x288 with 1 Axes>"
      ]
     },
     "metadata": {
      "needs_background": "light"
     },
     "output_type": "display_data"
    }
   ],
   "source": [
    "sns.scatterplot(x='model_year', y='price', hue='type', data=nuevo_df)\n",
    "plt.title('Price by age and vehicle type')\n",
    "plt.show()\n",
    "\n",
    "sns.scatterplot(x='odometer', y='price', hue='type', data=nuevo_df)\n",
    "plt.title('Price by odometer and vehicle type')\n",
    "plt.show()"
   ]
  },
  {
   "cell_type": "markdown",
   "metadata": {},
   "source": [
    "Estos gráficos nos permiten visualizar la relación entre el precio y cada una de las variables numéricas (edad y millaje) para cada tipo de vehículo."
   ]
  },
  {
   "cell_type": "markdown",
   "metadata": {},
   "source": [
    "## Conclusión general\n",
    "\n",
    "[Enumera tus conclusiones importantes en esta sección final, asegúrate de que incluyan aquellas que te llevaron a la forma en que procesaste y analizaste los datos. Habla de los valores ausentes, duplicados, valores atípicos y las posibles razones y soluciones para los artefactos problemáticos que tuviste que abordar. No olvides eliminar todos los comentarios entre corchetes antes de entregar tu proyecto.]"
   ]
  },
  {
   "cell_type": "markdown",
   "metadata": {},
   "source": [
    "El conjunto de datos original contenía 51525 registros y 13 columnas con información de anuncios de venta de automóviles en diferentes ciudades de Estados Unidos.\n",
    "\n",
    "Se encontraron valores ausentes en las columnas 'model_year', 'cylinders', 'odometer', 'paint_color' y 'type', los cuales fueron tratados eliminando las filas correspondientes.\n",
    "\n",
    "Se detectaron algunos registros duplicados que fueron eliminados del conjunto de datos.\n",
    "\n",
    "Se identificaron valores atípicos en la columna 'price', los cuales fueron tratados eliminando las filas correspondientes.\n",
    "\n",
    "Se encontró que los anuncios estuvieron publicados en promedio 39 días, con una mediana de 33 días.\n",
    "\n",
    "Se determinó que el tipo de vehículo con más anuncios es el sedán, seguido de los camionetas pickup.\n",
    "\n",
    "Se observó que el precio está más correlacionado con la edad y el millaje del vehículo, lo que indica que estos factores pueden impactar más sobre el precio.\n",
    "\n",
    "Se realizó un análisis de los precios por tipo de transmisión y se encontró que los vehículos con transmisión automática tienen precios más elevados en comparación con los de transmisión manual.\n",
    "\n",
    "Podemos concluir que el precio de un vehículo está altamente correlacionado con la edad y el millaje del mismo. Es importante tener en cuenta estos factores al establecer el precio de los vehículos en nuestra empresa.\n",
    "\n",
    "Además, podemos observar que los vehículos con transmisión automática tienen un mayor precio promedio en comparación con los vehículos con transmisión manual, lo que puede influir en nuestra estrategia de precios.\n",
    "\n",
    "También es importante considerar la relación entre el precio y la edad/kilometraje del vehículo para cada modelo. Debemos tener en cuenta que los modelos más nuevos suelen tener un precio más alto, mientras que los vehículos con más kilometraje tienden a tener un precio más bajo, pero siempre dependiendo del modelo específico.\n",
    "\n",
    "En general, al tomar en cuenta todos estos factores, podemos ajustar nuestra estrategia de precios para maximizar los ingresos de nuestra automotriz y ofrecer a nuestros clientes precios competitivos y justos."
   ]
  }
 ],
 "metadata": {
  "ExecuteTimeLog": [
   {
    "duration": 828,
    "start_time": "2021-11-16T09:21:11.304Z"
   },
   {
    "duration": 893,
    "start_time": "2021-11-16T09:21:17.728Z"
   },
   {
    "duration": 1150,
    "start_time": "2021-11-16T09:21:29.568Z"
   },
   {
    "duration": 3,
    "start_time": "2021-11-16T09:24:14.495Z"
   },
   {
    "duration": 120,
    "start_time": "2021-11-16T09:24:46.630Z"
   },
   {
    "duration": 3,
    "start_time": "2021-11-16T09:28:27.882Z"
   },
   {
    "duration": 4,
    "start_time": "2021-11-16T09:29:54.281Z"
   },
   {
    "duration": 3,
    "start_time": "2021-11-16T09:30:45.936Z"
   },
   {
    "duration": 4,
    "start_time": "2021-11-16T09:31:06.300Z"
   },
   {
    "duration": 113,
    "start_time": "2021-11-16T09:31:37.208Z"
   },
   {
    "duration": 143,
    "start_time": "2021-11-16T09:31:48.656Z"
   },
   {
    "duration": 98,
    "start_time": "2021-11-16T09:31:55.678Z"
   },
   {
    "duration": 3,
    "start_time": "2021-11-16T09:32:08.535Z"
   },
   {
    "duration": 111,
    "start_time": "2021-11-16T09:32:10.120Z"
   },
   {
    "duration": 3,
    "start_time": "2021-11-16T09:32:15.732Z"
   },
   {
    "duration": 4,
    "start_time": "2021-11-16T09:32:29.423Z"
   },
   {
    "duration": 3,
    "start_time": "2021-11-16T10:03:03.074Z"
   },
   {
    "duration": 3,
    "start_time": "2021-11-16T10:10:01.288Z"
   },
   {
    "duration": 3,
    "start_time": "2021-11-16T10:10:46.923Z"
   },
   {
    "duration": 121,
    "start_time": "2021-11-16T10:37:46.494Z"
   },
   {
    "duration": 125,
    "start_time": "2021-11-16T10:38:20.632Z"
   },
   {
    "duration": 112,
    "start_time": "2021-11-16T10:46:53.001Z"
   },
   {
    "duration": 110,
    "start_time": "2021-11-16T10:48:25.775Z"
   },
   {
    "duration": 3,
    "start_time": "2021-11-16T10:50:18.720Z"
   },
   {
    "duration": 4,
    "start_time": "2021-11-16T10:50:37.649Z"
   },
   {
    "duration": 2,
    "start_time": "2021-11-16T10:50:51.884Z"
   },
   {
    "duration": 3,
    "start_time": "2021-11-16T10:51:56.237Z"
   },
   {
    "duration": 101,
    "start_time": "2021-11-16T10:53:13.791Z"
   },
   {
    "duration": 3,
    "start_time": "2021-11-16T10:55:59.186Z"
   },
   {
    "duration": 3,
    "start_time": "2021-11-16T10:56:10.751Z"
   },
   {
    "duration": 3,
    "start_time": "2021-11-16T10:56:49.038Z"
   },
   {
    "duration": 3,
    "start_time": "2021-11-16T10:56:49.174Z"
   },
   {
    "duration": 4,
    "start_time": "2021-11-16T10:56:49.414Z"
   },
   {
    "duration": 3,
    "start_time": "2021-11-16T10:56:49.680Z"
   },
   {
    "duration": 3,
    "start_time": "2021-11-16T10:56:50.370Z"
   },
   {
    "duration": 114,
    "start_time": "2021-11-16T10:59:34.518Z"
   },
   {
    "duration": 3,
    "start_time": "2021-11-16T11:01:41.201Z"
   },
   {
    "duration": 116,
    "start_time": "2021-11-16T11:01:48.754Z"
   },
   {
    "duration": 3,
    "start_time": "2021-11-16T11:02:16.685Z"
   },
   {
    "duration": 3,
    "start_time": "2021-11-16T11:02:19.479Z"
   },
   {
    "duration": 3,
    "start_time": "2021-11-16T11:02:47.067Z"
   },
   {
    "duration": 3,
    "start_time": "2021-11-16T11:02:49.353Z"
   },
   {
    "duration": 3,
    "start_time": "2021-11-16T11:03:07.835Z"
   },
   {
    "duration": 3,
    "start_time": "2021-11-16T11:03:07.953Z"
   },
   {
    "duration": 112,
    "start_time": "2021-11-16T11:07:52.072Z"
   },
   {
    "duration": 187,
    "start_time": "2021-11-16T11:09:23.468Z"
   },
   {
    "duration": 4,
    "start_time": "2021-11-16T11:10:01.455Z"
   },
   {
    "duration": 3,
    "start_time": "2021-11-16T11:10:05.069Z"
   },
   {
    "duration": 4,
    "start_time": "2021-11-16T11:10:13.376Z"
   },
   {
    "duration": 3,
    "start_time": "2021-11-16T11:10:14.434Z"
   },
   {
    "duration": 3,
    "start_time": "2021-11-16T11:10:22.853Z"
   },
   {
    "duration": 4,
    "start_time": "2021-11-16T11:27:29.279Z"
   },
   {
    "duration": 4,
    "start_time": "2021-11-16T11:29:08.919Z"
   },
   {
    "duration": 118,
    "start_time": "2021-11-16T11:29:46.703Z"
   },
   {
    "duration": 437,
    "start_time": "2021-11-16T11:36:02.181Z"
   },
   {
    "duration": 157,
    "start_time": "2021-11-16T11:36:14.388Z"
   },
   {
    "duration": 207,
    "start_time": "2021-11-16T11:47:15.898Z"
   },
   {
    "duration": 3,
    "start_time": "2021-11-16T11:53:52.092Z"
   },
   {
    "duration": 3,
    "start_time": "2021-11-16T11:53:52.236Z"
   },
   {
    "duration": 3,
    "start_time": "2021-11-16T11:59:12.005Z"
   },
   {
    "duration": 112,
    "start_time": "2021-11-16T12:00:33.446Z"
   },
   {
    "duration": 3,
    "start_time": "2021-11-16T12:02:14.453Z"
   },
   {
    "duration": 3,
    "start_time": "2021-11-16T12:02:39.512Z"
   },
   {
    "duration": 106,
    "start_time": "2021-11-16T12:03:03.460Z"
   }
  ],
  "kernelspec": {
   "display_name": "Python 3 (ipykernel)",
   "language": "python",
   "name": "python3"
  },
  "language_info": {
   "codemirror_mode": {
    "name": "ipython",
    "version": 3
   },
   "file_extension": ".py",
   "mimetype": "text/x-python",
   "name": "python",
   "nbconvert_exporter": "python",
   "pygments_lexer": "ipython3",
   "version": "3.9.5"
  },
  "toc": {
   "base_numbering": 1,
   "nav_menu": {},
   "number_sections": true,
   "sideBar": true,
   "skip_h1_title": false,
   "title_cell": "Table of Contents",
   "title_sidebar": "Contents",
   "toc_cell": false,
   "toc_position": {
    "height": "calc(100% - 180px)",
    "left": "10px",
    "top": "150px",
    "width": "307.778px"
   },
   "toc_section_display": true,
   "toc_window_display": true
  }
 },
 "nbformat": 4,
 "nbformat_minor": 2
}
